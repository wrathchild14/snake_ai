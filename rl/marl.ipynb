{
 "cells": [
  {
   "cell_type": "markdown",
   "metadata": {},
   "source": [
    "Collaboartion of snake agents in a MARL environment "
   ]
  },
  {
   "cell_type": "code",
   "execution_count": 1,
   "metadata": {},
   "outputs": [],
   "source": [
    "n_agents = 2\n",
    "\n",
    "shared_rewards = [] # it can use the same rewards, but changed build"
   ]
  },
  {
   "cell_type": "code",
   "execution_count": 14,
   "metadata": {},
   "outputs": [],
   "source": [
    "import math\n",
    "import random\n",
    "import time\n",
    "import torch\n",
    "import torch.optim as optim\n",
    "\n",
    "from mlagents_envs.environment import UnityEnvironment\n",
    "from mlagents_envs.base_env import ActionTuple\n",
    "\n",
    "import numpy as np\n",
    "import pandas as pd\n",
    "from tqdm import tqdm\n",
    "import matplotlib.pyplot as plt\n",
    "from models import DQN, DuelingDQN, ReplayMemory, optimize_model\n",
    "\n",
    "def select_action(state_in, policy_net, spec):\n",
    "    global steps_done\n",
    "    sample = random.random()\n",
    "    eps_threshold = EPS_END + (EPS_START - EPS_END) * math.exp(-1. * steps_done / EPS_DECAY)\n",
    "    steps_done += 1\n",
    "    if sample > eps_threshold:\n",
    "        with torch.no_grad():\n",
    "            action_out = policy_net(state_in).max(1).indices.view(1, 1)\n",
    "            return action_out\n",
    "    else:\n",
    "        return torch.tensor(spec.action_spec.random_action(1).discrete, device=device, dtype=torch.long)\n"
   ]
  },
  {
   "cell_type": "code",
   "execution_count": 15,
   "metadata": {},
   "outputs": [],
   "source": [
    "\n",
    "device = torch.device(\"cuda\" if torch.cuda.is_available() else \"cpu\")\n",
    "\n",
    "BATCH_SIZE = 128\n",
    "GAMMA = 0.99\n",
    "EPS_START = 0.9\n",
    "EPS_END = 0.1\n",
    "EPS_DECAY = 5_000\n",
    "TAU = 0.005\n",
    "LR = 1e-4\n",
    "\n",
    "SAVE_WEIGHTS = True\n",
    "LOAD_WEIGHTS = False\n",
    "steps_done = 0\n",
    "STEPS = 250\n",
    "DOUBLE = True\n",
    "DUELING = False\n",
    "GRAPHICS = True\n",
    "\n",
    "if torch.cuda.is_available():\n",
    "    num_episodes = 500\n",
    "else:\n",
    "    num_episodes = 50\n"
   ]
  },
  {
   "cell_type": "code",
   "execution_count": 18,
   "metadata": {},
   "outputs": [],
   "source": [
    "env = UnityEnvironment(file_name=\"marl_builds/snake\", seed=1, side_channels=[], no_graphics=not GRAPHICS)\n",
    "env.reset()\n"
   ]
  },
  {
   "cell_type": "code",
   "execution_count": 19,
   "metadata": {},
   "outputs": [
    {
     "data": {
      "text/plain": [
       "['Snake1?team=0', 'Snake2?team=0']"
      ]
     },
     "execution_count": 19,
     "metadata": {},
     "output_type": "execute_result"
    }
   ],
   "source": [
    "list(env.behavior_specs)"
   ]
  },
  {
   "cell_type": "code",
   "execution_count": 20,
   "metadata": {},
   "outputs": [
    {
     "name": "stdout",
     "output_type": "stream",
     "text": [
      "Initialized 2 DQNs with 29 observations and 4 actions each\n"
     ]
    }
   ],
   "source": [
    "\n",
    "# fix so it has more behaviours\n",
    "behaviour_names = list(env.behavior_specs)\n",
    "specs = [env.behavior_specs[name] for name in behaviour_names]\n",
    "\n",
    "n_actions = specs[0].action_spec.discrete_branches[0]\n",
    "state, _ = env.get_steps(behaviour_names[0])\n",
    "state = state.obs[0]\n",
    "n_observations = specs[0].observation_specs[0].shape[0]\n",
    "\n",
    "if DUELING:\n",
    "    policy_nets = [DuelingDQN(n_observations, n_actions).to(device) if DUELING else DQN(n_observations, n_actions).to(device) for _ in range(n_agents)]\n",
    "    target_nets = [DuelingDQN(n_observations, n_actions).to(device) if DUELING else DQN(n_observations, n_actions).to(device) for _ in range(n_agents)]\n",
    "else:\n",
    "    policy_nets = [DQN(n_observations, n_actions).to(device) for _ in range(n_agents)]\n",
    "    target_nets = [DQN(n_observations, n_actions).to(device) for _ in range(n_agents)]\n",
    "\n",
    "optimizers = [optim.AdamW(policy_net.parameters(), lr=LR, amsgrad=True) for policy_net in policy_nets]\n",
    "memories = [ReplayMemory(1000) for _ in range(n_agents)]\n",
    "\n",
    "if LOAD_WEIGHTS:\n",
    "    for i, policy_net in enumerate(policy_nets):\n",
    "        policy_net.load_state_dict(torch.load(f'marl_weights/policy_net_{i}.pth'))\n",
    "    print(\"Loaded MARL weights from file\")\n",
    "\n",
    "for policy_net, target_net in zip(policy_nets, target_nets):\n",
    "    target_net.load_state_dict(policy_net.state_dict())\n",
    "\n",
    "rewards = [[] for _ in range(n_agents)]\n",
    "losses = [[] for _ in range(n_agents)]\n",
    "lengths = [[] for _ in range(n_agents)]\n",
    "\n",
    "print(f\"Initialized {n_agents} DQNs with {n_observations} observations and {n_actions} actions each\")"
   ]
  },
  {
   "cell_type": "code",
   "execution_count": 12,
   "metadata": {},
   "outputs": [
    {
     "name": "stderr",
     "output_type": "stream",
     "text": [
      "  0%|          | 0/500 [00:00<?, ?it/s]\n"
     ]
    },
    {
     "ename": "TypeError",
     "evalue": "select_action() takes 1 positional argument but 2 were given",
     "output_type": "error",
     "traceback": [
      "\u001b[1;31m---------------------------------------------------------------------------\u001b[0m",
      "\u001b[1;31mTypeError\u001b[0m                                 Traceback (most recent call last)",
      "Cell \u001b[1;32mIn[12], line 20\u001b[0m\n\u001b[0;32m     18\u001b[0m state \u001b[38;5;241m=\u001b[39m torch\u001b[38;5;241m.\u001b[39mtensor(state, dtype\u001b[38;5;241m=\u001b[39mtorch\u001b[38;5;241m.\u001b[39mfloat32, device\u001b[38;5;241m=\u001b[39mdevice)\n\u001b[0;32m     19\u001b[0m \u001b[38;5;28;01mfor\u001b[39;00m t \u001b[38;5;129;01min\u001b[39;00m \u001b[38;5;28mrange\u001b[39m(STEPS):\n\u001b[1;32m---> 20\u001b[0m     actions \u001b[38;5;241m=\u001b[39m [select_action(state, policy_net) \u001b[38;5;28;01mfor\u001b[39;00m policy_net \u001b[38;5;129;01min\u001b[39;00m policy_nets]\n\u001b[0;32m     22\u001b[0m     \u001b[38;5;66;03m# FIX SO IT WORKS WITH MULTIPLE ENVS\u001b[39;00m\n\u001b[0;32m     23\u001b[0m     \u001b[38;5;66;03m# REWORK SHARED REWARD, get it from the every env and than calculate it\u001b[39;00m\n\u001b[0;32m     24\u001b[0m     action_tuple \u001b[38;5;241m=\u001b[39m ActionTuple()\n",
      "Cell \u001b[1;32mIn[12], line 20\u001b[0m, in \u001b[0;36m<listcomp>\u001b[1;34m(.0)\u001b[0m\n\u001b[0;32m     18\u001b[0m state \u001b[38;5;241m=\u001b[39m torch\u001b[38;5;241m.\u001b[39mtensor(state, dtype\u001b[38;5;241m=\u001b[39mtorch\u001b[38;5;241m.\u001b[39mfloat32, device\u001b[38;5;241m=\u001b[39mdevice)\n\u001b[0;32m     19\u001b[0m \u001b[38;5;28;01mfor\u001b[39;00m t \u001b[38;5;129;01min\u001b[39;00m \u001b[38;5;28mrange\u001b[39m(STEPS):\n\u001b[1;32m---> 20\u001b[0m     actions \u001b[38;5;241m=\u001b[39m [\u001b[43mselect_action\u001b[49m\u001b[43m(\u001b[49m\u001b[43mstate\u001b[49m\u001b[43m,\u001b[49m\u001b[43m \u001b[49m\u001b[43mpolicy_net\u001b[49m\u001b[43m)\u001b[49m \u001b[38;5;28;01mfor\u001b[39;00m policy_net \u001b[38;5;129;01min\u001b[39;00m policy_nets]\n\u001b[0;32m     22\u001b[0m     \u001b[38;5;66;03m# FIX SO IT WORKS WITH MULTIPLE ENVS\u001b[39;00m\n\u001b[0;32m     23\u001b[0m     \u001b[38;5;66;03m# REWORK SHARED REWARD, get it from the every env and than calculate it\u001b[39;00m\n\u001b[0;32m     24\u001b[0m     action_tuple \u001b[38;5;241m=\u001b[39m ActionTuple()\n",
      "\u001b[1;31mTypeError\u001b[0m: select_action() takes 1 positional argument but 2 were given"
     ]
    }
   ],
   "source": [
    "timer_start = time.perf_counter()\n",
    "pbar = tqdm(range(num_episodes))\n",
    "for i_episode in pbar:\n",
    "    if i_episode % 100 == 0 and i_episode != 0:\n",
    "        for i, policy_net in enumerate(policy_nets):\n",
    "            torch.save(policy_net.state_dict(), f'weights/policy_net_{i}.pth')\n",
    "        print(f\"Episode {i_episode}, avg reward: {np.mean(rewards[-100:]):.2f}, \"\n",
    "              f\"epsilon: {EPS_END + (EPS_START - EPS_END) * math.exp(-1. * steps_done / EPS_DECAY):.2f}\")\n",
    "        print(\"Checkpoint: Saved weights to file\")\n",
    "\n",
    "    step_rewards = [0 for _ in range(n_agents)]\n",
    "    step_losses = [[] for _ in range(n_agents)]\n",
    "    episode_length = [0 for _ in range(n_agents)]\n",
    "\n",
    "    env.reset()\n",
    "    decision_steps1, terminal_steps1 = env.get_steps(behaviour_names[0])\n",
    "    decision_steps2, terminal_steps2 = env.get_steps(behaviour_names[1])\n",
    "    states = [decision_steps1.obs[0], decision_steps2.obs[0]]\n",
    "    states = [torch.tensor(states, dtype=torch.float32, device=device), torch.tensor(states, dtype=torch.float32, device=device)]\n",
    "    for t in range(STEPS):\n",
    "        actions = [select_action(state, policy_net) for policy_net in policy_nets]\n",
    "\n",
    "        action_tuple = ActionTuple()\n",
    "        for action in actions:\n",
    "            action_tuple.add_discrete(action.cpu().numpy())\n",
    "        env.set_actions(behaviour_name, action_tuple)\n",
    "        env.step()\n",
    "        \n",
    "        decision_steps, terminal_steps = env.get_steps(behaviour_name)\n",
    "        observation = decision_steps.obs[0]\n",
    "        reward = np.zeros(state.shape[0])\n",
    "        if len(decision_steps.reward) > 0:\n",
    "            reward += decision_steps.reward\n",
    "        if len(terminal_steps.reward) > 0:\n",
    "            reward += terminal_steps.reward\n",
    "        done = len(decision_steps) == 0\n",
    "        terminated = len(terminal_steps) > 0\n",
    "\n",
    "        reward = torch.tensor(reward, device=device)\n",
    "        for i in range(n_agents):\n",
    "            step_rewards[i] += reward.item()\n",
    "\n",
    "        if done or terminated:\n",
    "            next_state = None\n",
    "        else:\n",
    "            next_state = torch.tensor(observation, dtype=torch.float32, device=device)\n",
    "\n",
    "        for i in range(n_agents):\n",
    "            memories[i].push(state, actions[i], next_state, reward)\n",
    "            loss = optimize_model(memories[i], policy_nets[i], target_nets[i], optimizers[i], device, double=DOUBLE, BATCH_SIZE=BATCH_SIZE, GAMMA=GAMMA)\n",
    "            if loss is not None:\n",
    "                step_losses[i].append(loss)\n",
    "\n",
    "            target_net_state_dict = target_nets[i].state_dict()\n",
    "            policy_net_state_dict = policy_nets[i].state_dict()\n",
    "            for key in policy_net_state_dict:\n",
    "                target_net_state_dict[key] = policy_net_state_dict[key] * TAU + target_net_state_dict[key] * (1 - TAU)\n",
    "            target_nets[i].load_state_dict(target_net_state_dict)\n",
    "\n",
    "        state = next_state\n",
    "\n",
    "        if terminated or done:\n",
    "            for i in range(n_agents):\n",
    "                episode_length[i] = t\n",
    "            break\n",
    "\n",
    "    for i in range(n_agents):\n",
    "        if len(step_losses[i]) == 0:\n",
    "            step_losses[i].append(0)\n",
    "        losses[i].append(np.mean(step_losses[i]))\n",
    "        lengths[i].append(np.mean(episode_length[i]))\n",
    "        rewards[i].append(step_rewards[i])\n",
    "\n",
    "    pbar.set_description(f\"E {i_episode} done after {t + 1} t, with r: {sum(step_rewards):.2f} and l: {np.mean([np.mean(loss) for loss in step_losses]):.2f}\")\n",
    "\n",
    "env.close()\n",
    "print(f\"Finished training in {(time.perf_counter() - timer_start)/60 :.3} minutes\")"
   ]
  }
 ],
 "metadata": {
  "kernelspec": {
   "display_name": "venv",
   "language": "python",
   "name": "python3"
  },
  "language_info": {
   "codemirror_mode": {
    "name": "ipython",
    "version": 3
   },
   "file_extension": ".py",
   "mimetype": "text/x-python",
   "name": "python",
   "nbconvert_exporter": "python",
   "pygments_lexer": "ipython3",
   "version": "3.10.11"
  }
 },
 "nbformat": 4,
 "nbformat_minor": 2
}
