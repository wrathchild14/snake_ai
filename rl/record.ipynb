{
 "cells": [
  {
   "cell_type": "code",
   "execution_count": 7,
   "metadata": {},
   "outputs": [],
   "source": [
    "import torch\n",
    "\n",
    "from mlagents_envs.environment import UnityEnvironment\n",
    "from mlagents_envs.base_env import ActionTuple\n",
    "\n",
    "from models import DQN, DuelingDQN"
   ]
  },
  {
   "cell_type": "code",
   "execution_count": 8,
   "metadata": {},
   "outputs": [
    {
     "data": {
      "text/plain": [
       "<All keys matched successfully>"
      ]
     },
     "execution_count": 8,
     "metadata": {},
     "output_type": "execute_result"
    }
   ],
   "source": [
    "\n",
    "device = torch.device(\"cuda\" if torch.cuda.is_available() else \"cpu\")\n",
    "\n",
    "env = UnityEnvironment(file_name=\"unity_builds/snake\", seed=0, side_channels=[], no_graphics=False)\n",
    "env.reset()\n",
    "\n",
    "behaviour_name = list(env.behavior_specs)[0]\n",
    "spec = env.behavior_specs[behaviour_name]\n",
    "\n",
    "n_actions = spec.action_spec.discrete_branches[0]\n",
    "state, _ = env.get_steps(behaviour_name)\n",
    "state = state.obs[0]\n",
    "n_observations = spec.observation_specs[0].shape[0]\n",
    "policy_net = DQN(n_observations, n_actions).to(device)\n",
    "# policy_net = DuelingDQN(n_observations, n_actions).to(device)\n",
    "policy_net.load_state_dict(torch.load('trained_models/10k_episodes/ddqn/policy_net.pth'))"
   ]
  },
  {
   "cell_type": "code",
   "execution_count": 9,
   "metadata": {},
   "outputs": [],
   "source": [
    "for _ in range(3):\n",
    "    env.reset()\n",
    "    decision_steps, terminal_steps = env.get_steps(behaviour_name)\n",
    "    state = decision_steps.obs[0]\n",
    "    state = torch.tensor(state, dtype=torch.float32, device=device)\n",
    "    for _ in range(300):\n",
    "        with torch.no_grad():\n",
    "            action = policy_net(state).max(1).indices.view(1, 1)\n",
    "\n",
    "        action_tuple = ActionTuple()\n",
    "        action_tuple.add_discrete(action.cpu().numpy())\n",
    "        env.set_actions(behaviour_name, action_tuple)\n",
    "        env.step()\n",
    "\n",
    "        decision_steps, terminal_steps = env.get_steps(behaviour_name)\n",
    "        observation = decision_steps.obs[0]\n",
    "        done = len(decision_steps) == 0\n",
    "        terminated = len(terminal_steps) > 0\n",
    "\n",
    "        if done or terminated:\n",
    "            break\n",
    "        state = torch.tensor(observation, dtype=torch.float32, device=device)\n",
    "env.close()"
   ]
  },
  {
   "cell_type": "markdown",
   "metadata": {},
   "source": [
    "Infinite loop"
   ]
  },
  {
   "cell_type": "code",
   "execution_count": null,
   "metadata": {},
   "outputs": [],
   "source": [
    "env.reset()\n",
    "decision_steps, terminal_steps = env.get_steps(behaviour_name)\n",
    "state = decision_steps.obs[0]\n",
    "state = torch.tensor(state, dtype=torch.float32, device=device)\n",
    "while True:\n",
    "    with torch.no_grad():\n",
    "        action = policy_net(state).max(1).indices.view(1, 1)\n",
    "\n",
    "    action_tuple = ActionTuple()\n",
    "    action_tuple.add_discrete(action.cpu().numpy())\n",
    "    env.set_actions(behaviour_name, action_tuple)\n",
    "    env.step()\n",
    "\n",
    "    decision_steps, terminal_steps = env.get_steps(behaviour_name)\n",
    "    observation = decision_steps.obs[0]\n",
    "    done = len(decision_steps) == 0\n",
    "    terminated = len(terminal_steps) > 0\n",
    "\n",
    "    if done or terminated:\n",
    "        break\n",
    "    state = torch.tensor(observation, dtype=torch.float32, device=device)"
   ]
  },
  {
   "cell_type": "code",
   "execution_count": 17,
   "metadata": {},
   "outputs": [],
   "source": [
    "env.close()"
   ]
  }
 ],
 "metadata": {
  "kernelspec": {
   "display_name": "venv",
   "language": "python",
   "name": "python3"
  },
  "language_info": {
   "codemirror_mode": {
    "name": "ipython",
    "version": 3
   },
   "file_extension": ".py",
   "mimetype": "text/x-python",
   "name": "python",
   "nbconvert_exporter": "python",
   "pygments_lexer": "ipython3",
   "version": "3.10.11"
  }
 },
 "nbformat": 4,
 "nbformat_minor": 2
}
