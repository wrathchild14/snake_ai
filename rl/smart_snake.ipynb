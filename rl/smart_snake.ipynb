{
 "cells": [
  {
   "cell_type": "code",
   "execution_count": 10,
   "metadata": {},
   "outputs": [],
   "source": [
    "import math\n",
    "import random\n",
    "import time\n",
    "import torch\n",
    "import torch.optim as optim\n",
    "\n",
    "\n",
    "from mlagents_envs.environment import UnityEnvironment\n",
    "from mlagents_envs.base_env import ActionTuple\n",
    "\n",
    "import numpy as np\n",
    "import pandas as pd\n",
    "from tqdm import tqdm\n",
    "import matplotlib.pyplot as plt\n",
    "from models import DQN, DuelingDQN, ReplayMemory, optimize_model\n",
    "\n",
    "def select_action(state_in):\n",
    "    global steps_done\n",
    "    sample = random.random()\n",
    "    eps_threshold = EPS_END + (EPS_START - EPS_END) * math.exp(-1. * steps_done / EPS_DECAY)\n",
    "    steps_done += 1\n",
    "    if sample > eps_threshold:\n",
    "        with torch.no_grad():\n",
    "            # t.max(1) will return the largest column value of each row.\n",
    "            # second column on max result is index of where max element was\n",
    "            # found, so we pick action with the larger expected reward.\n",
    "            action_out = policy_net(state_in).max(1).indices.view(1, 1)\n",
    "            return action_out\n",
    "    else:\n",
    "        return torch.tensor(spec.action_spec.random_action(1).discrete, device=device, dtype=torch.long)\n"
   ]
  },
  {
   "cell_type": "code",
   "execution_count": 11,
   "metadata": {},
   "outputs": [],
   "source": [
    "\n",
    "device = torch.device(\"cuda\" if torch.cuda.is_available() else \"cpu\")\n",
    "\n",
    "timer_start = time.perf_counter()\n",
    "# BATCH_SIZE is the number of transitions sampled from the replay buffer\n",
    "# GAMMA is the discount factor as mentioned in the previous section\n",
    "# EPS_START is the starting value of epsilon\n",
    "# EPS_END is the final value of epsilon\n",
    "# EPS_DECAY controls the rate of exponential decay of epsilon, higher means a slower decay\n",
    "# TAU is the update rate of the target network\n",
    "# LR is the learning rate of the ``AdamW`` optimizer\n",
    "BATCH_SIZE = 128\n",
    "GAMMA = 0.99\n",
    "EPS_START = 0.9\n",
    "EPS_END = 0.1\n",
    "EPS_DECAY = 50_000\n",
    "TAU = 0.005\n",
    "LR = 1e-4\n",
    "\n",
    "SAVE_WEIGHTS = True\n",
    "LOAD_WEIGHTS = False\n",
    "steps_done = 0\n",
    "STEPS = 250\n",
    "DOUBLE = False\n",
    "DUELING = False\n",
    "GRAPHICS = False\n",
    "\n",
    "if torch.cuda.is_available():\n",
    "    num_episodes = 5_000\n",
    "else:\n",
    "    num_episodes = 50\n"
   ]
  },
  {
   "cell_type": "code",
   "execution_count": 12,
   "metadata": {},
   "outputs": [
    {
     "name": "stdout",
     "output_type": "stream",
     "text": [
      "Initalized DQN with 8 observations and 4 actions\n"
     ]
    }
   ],
   "source": [
    "\n",
    "env = UnityEnvironment(file_name=\"unity_builds/snake\", seed=1, side_channels=[], no_graphics=not GRAPHICS)\n",
    "env.reset()\n",
    "\n",
    "behaviour_name = list(env.behavior_specs)[0]\n",
    "spec = env.behavior_specs[behaviour_name]\n",
    "\n",
    "n_actions = spec.action_spec.discrete_branches[0]\n",
    "state, _ = env.get_steps(behaviour_name)\n",
    "state = state.obs[0]\n",
    "# n_observations = len(state)\n",
    "n_observations = spec.observation_specs[0].shape[0]\n",
    "\n",
    "if DUELING:\n",
    "    policy_net = DuelingDQN(n_observations, n_actions).to(device)\n",
    "    target_net = DuelingDQN(n_observations, n_actions).to(device)\n",
    "else:\n",
    "    policy_net = DQN(n_observations, n_actions).to(device)\n",
    "    target_net = DQN(n_observations, n_actions).to(device)\n",
    "\n",
    "if LOAD_WEIGHTS:\n",
    "    policy_net.load_state_dict(torch.load('weights/policy_net.pth'))\n",
    "    print(\"Loaded weights from file\")\n",
    "\n",
    "target_net.load_state_dict(policy_net.state_dict())\n",
    "\n",
    "optimizer = optim.AdamW(policy_net.parameters(), lr=LR, amsgrad=True)\n",
    "memory = ReplayMemory(1000)\n",
    "print(f\"Initalized DQN with {n_observations} observations and {n_actions} actions\")\n",
    "rewards = []\n",
    "losses = []\n",
    "lengths = []"
   ]
  },
  {
   "cell_type": "code",
   "execution_count": 13,
   "metadata": {},
   "outputs": [
    {
     "name": "stderr",
     "output_type": "stream",
     "text": [
      "E 100 done after 2 t, with r: -1.20 and l: 0.01:   2%|▏         | 100/5000 [02:10<2:02:38,  1.50s/it]"
     ]
    },
    {
     "name": "stdout",
     "output_type": "stream",
     "text": [
      "Episode 100, avg reward: 0.12, epsilon: 0.80\n",
      "Checkpoint: Saved weights to file\n"
     ]
    },
    {
     "name": "stderr",
     "output_type": "stream",
     "text": [
      "E 199 done after 67 t, with r: 1.30 and l: 0.01:   4%|▍         | 200/5000 [04:00<1:27:26,  1.09s/it]  "
     ]
    },
    {
     "name": "stdout",
     "output_type": "stream",
     "text": [
      "Episode 200, avg reward: 0.60, epsilon: 0.73\n",
      "Checkpoint: Saved weights to file\n"
     ]
    },
    {
     "name": "stderr",
     "output_type": "stream",
     "text": [
      "E 299 done after 3 t, with r: -1.10 and l: 0.01:   6%|▌         | 299/5000 [05:31<57:02,  1.37it/s]   "
     ]
    },
    {
     "name": "stdout",
     "output_type": "stream",
     "text": [
      "Episode 300, avg reward: 0.80, epsilon: 0.68\n",
      "Checkpoint: Saved weights to file\n"
     ]
    },
    {
     "name": "stderr",
     "output_type": "stream",
     "text": [
      "E 399 done after 22 t, with r: 1.20 and l: 0.01:   8%|▊         | 400/5000 [06:41<44:58,  1.70it/s]   "
     ]
    },
    {
     "name": "stdout",
     "output_type": "stream",
     "text": [
      "Episode 400, avg reward: 0.70, epsilon: 0.64\n",
      "Checkpoint: Saved weights to file\n"
     ]
    },
    {
     "name": "stderr",
     "output_type": "stream",
     "text": [
      "E 499 done after 13 t, with r: 0.50 and l: 0.01:  10%|█         | 500/5000 [07:49<28:02,  2.68it/s]   "
     ]
    },
    {
     "name": "stdout",
     "output_type": "stream",
     "text": [
      "Episode 500, avg reward: 0.93, epsilon: 0.61\n",
      "Checkpoint: Saved weights to file\n"
     ]
    },
    {
     "name": "stderr",
     "output_type": "stream",
     "text": [
      "E 600 done after 9 t, with r: 0.30 and l: 0.00:  12%|█▏        | 600/5000 [08:51<48:56,  1.50it/s]   "
     ]
    },
    {
     "name": "stdout",
     "output_type": "stream",
     "text": [
      "Episode 600, avg reward: 1.06, epsilon: 0.58\n",
      "Checkpoint: Saved weights to file\n"
     ]
    },
    {
     "name": "stderr",
     "output_type": "stream",
     "text": [
      "E 699 done after 34 t, with r: 2.60 and l: 0.00:  14%|█▍        | 700/5000 [10:02<47:36,  1.51it/s]  "
     ]
    },
    {
     "name": "stdout",
     "output_type": "stream",
     "text": [
      "Episode 700, avg reward: 1.25, epsilon: 0.54\n",
      "Checkpoint: Saved weights to file\n"
     ]
    },
    {
     "name": "stderr",
     "output_type": "stream",
     "text": [
      "E 799 done after 19 t, with r: 1.30 and l: 0.00:  16%|█▌        | 800/5000 [11:04<33:10,  2.11it/s]   "
     ]
    },
    {
     "name": "stdout",
     "output_type": "stream",
     "text": [
      "Episode 800, avg reward: 1.22, epsilon: 0.52\n",
      "Checkpoint: Saved weights to file\n"
     ]
    },
    {
     "name": "stderr",
     "output_type": "stream",
     "text": [
      "E 899 done after 48 t, with r: 1.20 and l: 0.01:  18%|█▊        | 900/5000 [12:05<1:02:01,  1.10it/s]"
     ]
    },
    {
     "name": "stdout",
     "output_type": "stream",
     "text": [
      "Episode 900, avg reward: 1.42, epsilon: 0.49\n",
      "Checkpoint: Saved weights to file\n"
     ]
    },
    {
     "name": "stderr",
     "output_type": "stream",
     "text": [
      "E 999 done after 9 t, with r: 0.70 and l: 0.01:  20%|██        | 1000/5000 [13:03<30:41,  2.17it/s]  "
     ]
    },
    {
     "name": "stdout",
     "output_type": "stream",
     "text": [
      "Episode 1000, avg reward: 1.37, epsilon: 0.47\n",
      "Checkpoint: Saved weights to file\n"
     ]
    },
    {
     "name": "stderr",
     "output_type": "stream",
     "text": [
      "E 1099 done after 30 t, with r: 1.20 and l: 0.01:  22%|██▏       | 1100/5000 [13:55<29:47,  2.18it/s] "
     ]
    },
    {
     "name": "stdout",
     "output_type": "stream",
     "text": [
      "Episode 1100, avg reward: 1.06, epsilon: 0.45\n",
      "Checkpoint: Saved weights to file\n"
     ]
    },
    {
     "name": "stderr",
     "output_type": "stream",
     "text": [
      "E 1199 done after 31 t, with r: 1.50 and l: 0.00:  24%|██▍       | 1200/5000 [14:50<33:44,  1.88it/s]  "
     ]
    },
    {
     "name": "stdout",
     "output_type": "stream",
     "text": [
      "Episode 1200, avg reward: 1.41, epsilon: 0.44\n",
      "Checkpoint: Saved weights to file\n"
     ]
    },
    {
     "name": "stderr",
     "output_type": "stream",
     "text": [
      "E 1299 done after 28 t, with r: 2.40 and l: 0.01:  26%|██▌       | 1300/5000 [15:48<39:58,  1.54it/s] "
     ]
    },
    {
     "name": "stdout",
     "output_type": "stream",
     "text": [
      "Episode 1300, avg reward: 1.72, epsilon: 0.42\n",
      "Checkpoint: Saved weights to file\n"
     ]
    },
    {
     "name": "stderr",
     "output_type": "stream",
     "text": [
      "E 1399 done after 31 t, with r: 2.50 and l: 0.01:  28%|██▊       | 1400/5000 [16:44<33:35,  1.79it/s] "
     ]
    },
    {
     "name": "stdout",
     "output_type": "stream",
     "text": [
      "Episode 1400, avg reward: 1.64, epsilon: 0.40\n",
      "Checkpoint: Saved weights to file\n"
     ]
    },
    {
     "name": "stderr",
     "output_type": "stream",
     "text": [
      "E 1499 done after 10 t, with r: 0.60 and l: 0.01:  30%|███       | 1500/5000 [17:39<25:39,  2.27it/s] "
     ]
    },
    {
     "name": "stdout",
     "output_type": "stream",
     "text": [
      "Episode 1500, avg reward: 1.71, epsilon: 0.39\n",
      "Checkpoint: Saved weights to file\n"
     ]
    },
    {
     "name": "stderr",
     "output_type": "stream",
     "text": [
      "E 1599 done after 44 t, with r: 2.00 and l: 0.01:  32%|███▏      | 1600/5000 [18:36<36:59,  1.53it/s] "
     ]
    },
    {
     "name": "stdout",
     "output_type": "stream",
     "text": [
      "Episode 1600, avg reward: 1.84, epsilon: 0.37\n",
      "Checkpoint: Saved weights to file\n"
     ]
    },
    {
     "name": "stderr",
     "output_type": "stream",
     "text": [
      "E 1699 done after 1 t, with r: -1.10 and l: 0.02:  34%|███▍      | 1699/5000 [19:36<22:27,  2.45it/s]"
     ]
    },
    {
     "name": "stdout",
     "output_type": "stream",
     "text": [
      "Episode 1700, avg reward: 2.24, epsilon: 0.36\n",
      "Checkpoint: Saved weights to file\n"
     ]
    },
    {
     "name": "stderr",
     "output_type": "stream",
     "text": [
      "E 1799 done after 37 t, with r: 1.90 and l: 0.01:  36%|███▌      | 1800/5000 [20:36<28:45,  1.85it/s] "
     ]
    },
    {
     "name": "stdout",
     "output_type": "stream",
     "text": [
      "Episode 1800, avg reward: 2.06, epsilon: 0.34\n",
      "Checkpoint: Saved weights to file\n"
     ]
    },
    {
     "name": "stderr",
     "output_type": "stream",
     "text": [
      "E 1899 done after 24 t, with r: 1.40 and l: 0.01:  38%|███▊      | 1900/5000 [21:28<25:31,  2.02it/s]"
     ]
    },
    {
     "name": "stdout",
     "output_type": "stream",
     "text": [
      "Episode 1900, avg reward: 2.02, epsilon: 0.33\n",
      "Checkpoint: Saved weights to file\n"
     ]
    },
    {
     "name": "stderr",
     "output_type": "stream",
     "text": [
      "E 1999 done after 69 t, with r: 4.70 and l: 0.01:  40%|████      | 2000/5000 [22:30<41:19,  1.21it/s]"
     ]
    },
    {
     "name": "stdout",
     "output_type": "stream",
     "text": [
      "Episode 2000, avg reward: 2.45, epsilon: 0.32\n",
      "Checkpoint: Saved weights to file\n"
     ]
    },
    {
     "name": "stderr",
     "output_type": "stream",
     "text": [
      "E 2099 done after 16 t, with r: 1.80 and l: 0.01:  42%|████▏     | 2100/5000 [23:34<22:41,  2.13it/s]   "
     ]
    },
    {
     "name": "stdout",
     "output_type": "stream",
     "text": [
      "Episode 2100, avg reward: 2.64, epsilon: 0.30\n",
      "Checkpoint: Saved weights to file\n"
     ]
    },
    {
     "name": "stderr",
     "output_type": "stream",
     "text": [
      "E 2199 done after 22 t, with r: 1.00 and l: 0.01:  44%|████▍     | 2200/5000 [24:31<29:11,  1.60it/s]  "
     ]
    },
    {
     "name": "stdout",
     "output_type": "stream",
     "text": [
      "Episode 2200, avg reward: 2.36, epsilon: 0.29\n",
      "Checkpoint: Saved weights to file\n"
     ]
    },
    {
     "name": "stderr",
     "output_type": "stream",
     "text": [
      "E 2300 done after 9 t, with r: 0.50 and l: 0.01:  46%|████▌     | 2300/5000 [25:37<35:48,  1.26it/s]   "
     ]
    },
    {
     "name": "stdout",
     "output_type": "stream",
     "text": [
      "Episode 2300, avg reward: 3.03, epsilon: 0.28\n",
      "Checkpoint: Saved weights to file\n"
     ]
    },
    {
     "name": "stderr",
     "output_type": "stream",
     "text": [
      "E 2400 done after 9 t, with r: -0.50 and l: 0.01:  48%|████▊     | 2400/5000 [26:39<19:25,  2.23it/s] "
     ]
    },
    {
     "name": "stdout",
     "output_type": "stream",
     "text": [
      "Episode 2400, avg reward: 2.80, epsilon: 0.27\n",
      "Checkpoint: Saved weights to file\n"
     ]
    },
    {
     "name": "stderr",
     "output_type": "stream",
     "text": [
      "E 2499 done after 37 t, with r: 1.90 and l: 0.01:  50%|█████     | 2500/5000 [27:37<27:28,  1.52it/s] "
     ]
    },
    {
     "name": "stdout",
     "output_type": "stream",
     "text": [
      "Episode 2500, avg reward: 2.77, epsilon: 0.26\n",
      "Checkpoint: Saved weights to file\n"
     ]
    },
    {
     "name": "stderr",
     "output_type": "stream",
     "text": [
      "E 2599 done after 34 t, with r: 4.60 and l: 0.01:  52%|█████▏    | 2600/5000 [28:43<22:34,  1.77it/s]  "
     ]
    },
    {
     "name": "stdout",
     "output_type": "stream",
     "text": [
      "Episode 2600, avg reward: 3.42, epsilon: 0.25\n",
      "Checkpoint: Saved weights to file\n"
     ]
    },
    {
     "name": "stderr",
     "output_type": "stream",
     "text": [
      "E 2699 done after 9 t, with r: 0.50 and l: 0.01:  54%|█████▍    | 2700/5000 [29:45<19:57,  1.92it/s]  "
     ]
    },
    {
     "name": "stdout",
     "output_type": "stream",
     "text": [
      "Episode 2700, avg reward: 3.50, epsilon: 0.24\n",
      "Checkpoint: Saved weights to file\n"
     ]
    },
    {
     "name": "stderr",
     "output_type": "stream",
     "text": [
      "E 2799 done after 46 t, with r: 5.00 and l: 0.02:  56%|█████▌    | 2800/5000 [30:49<28:10,  1.30it/s] "
     ]
    },
    {
     "name": "stdout",
     "output_type": "stream",
     "text": [
      "Episode 2800, avg reward: 3.38, epsilon: 0.23\n",
      "Checkpoint: Saved weights to file\n"
     ]
    },
    {
     "name": "stderr",
     "output_type": "stream",
     "text": [
      "E 2899 done after 12 t, with r: 0.80 and l: 0.01:  58%|█████▊    | 2900/5000 [31:49<11:53,  2.94it/s] "
     ]
    },
    {
     "name": "stdout",
     "output_type": "stream",
     "text": [
      "Episode 2900, avg reward: 3.30, epsilon: 0.23\n",
      "Checkpoint: Saved weights to file\n"
     ]
    },
    {
     "name": "stderr",
     "output_type": "stream",
     "text": [
      "E 2999 done after 50 t, with r: 8.40 and l: 0.01:  60%|██████    | 3000/5000 [32:49<23:01,  1.45it/s] "
     ]
    },
    {
     "name": "stdout",
     "output_type": "stream",
     "text": [
      "Episode 3000, avg reward: 3.33, epsilon: 0.22\n",
      "Checkpoint: Saved weights to file\n"
     ]
    },
    {
     "name": "stderr",
     "output_type": "stream",
     "text": [
      "E 3099 done after 22 t, with r: 2.60 and l: 0.01:  62%|██████▏   | 3100/5000 [33:57<17:37,  1.80it/s]  "
     ]
    },
    {
     "name": "stdout",
     "output_type": "stream",
     "text": [
      "Episode 3100, avg reward: 3.84, epsilon: 0.21\n",
      "Checkpoint: Saved weights to file\n"
     ]
    },
    {
     "name": "stderr",
     "output_type": "stream",
     "text": [
      "E 3199 done after 33 t, with r: 1.90 and l: 0.01:  64%|██████▍   | 3200/5000 [35:05<21:38,  1.39it/s]  "
     ]
    },
    {
     "name": "stdout",
     "output_type": "stream",
     "text": [
      "Episode 3200, avg reward: 3.97, epsilon: 0.20\n",
      "Checkpoint: Saved weights to file\n"
     ]
    },
    {
     "name": "stderr",
     "output_type": "stream",
     "text": [
      "E 3299 done after 62 t, with r: 5.60 and l: 0.01:  66%|██████▌   | 3300/5000 [36:07<21:37,  1.31it/s] "
     ]
    },
    {
     "name": "stdout",
     "output_type": "stream",
     "text": [
      "Episode 3300, avg reward: 3.83, epsilon: 0.20\n",
      "Checkpoint: Saved weights to file\n"
     ]
    },
    {
     "name": "stderr",
     "output_type": "stream",
     "text": [
      "E 3399 done after 18 t, with r: 3.40 and l: 0.01:  68%|██████▊   | 3400/5000 [37:14<13:37,  1.96it/s]  "
     ]
    },
    {
     "name": "stdout",
     "output_type": "stream",
     "text": [
      "Episode 3400, avg reward: 3.93, epsilon: 0.19\n",
      "Checkpoint: Saved weights to file\n"
     ]
    },
    {
     "name": "stderr",
     "output_type": "stream",
     "text": [
      "E 3478 done after 37 t, with r: 4.90 and l: 0.01:  70%|██████▉   | 3479/5000 [38:10<18:28,  1.37it/s]  "
     ]
    }
   ],
   "source": [
    "pbar = tqdm(range(num_episodes))\n",
    "for i_episode in pbar:\n",
    "    if i_episode % 100 == 0 and i_episode != 0:\n",
    "        print(\n",
    "            f\"Episode {i_episode}, avg reward: {np.mean(rewards[-100:]):.2f}, \"\n",
    "            f\"epsilon: {EPS_END + (EPS_START - EPS_END) * math.exp(-1. * steps_done / EPS_DECAY):.2f}\")\n",
    "        torch.save(policy_net.state_dict(), 'weights/policy_net.pth')\n",
    "        print(\"Checkpoint: Saved weights to file\")\n",
    "    step_rewards = []\n",
    "    step_losses = []\n",
    "    episode_length = []\n",
    "    # Initialize the environment and get its state\n",
    "    env.reset()\n",
    "    decision_steps, terminal_steps = env.get_steps(behaviour_name)\n",
    "    state = decision_steps.obs[0]\n",
    "    state = torch.tensor(state, dtype=torch.float32, device=device)\n",
    "    for t in range(STEPS):\n",
    "        # time.sleep(1)\n",
    "        action = select_action(state)\n",
    "        action_tuple = ActionTuple()\n",
    "        action_tuple.add_discrete(action.cpu().numpy())\n",
    "        env.set_actions(behaviour_name, action_tuple)\n",
    "        env.step()\n",
    "\n",
    "        assert action.shape[0] == state.shape[0]\n",
    "\n",
    "        decision_steps, terminal_steps = env.get_steps(behaviour_name)\n",
    "        observation = decision_steps.obs[0]\n",
    "        reward = np.zeros(state.shape[0])\n",
    "        if len(decision_steps.reward) > 0:\n",
    "            reward += decision_steps.reward\n",
    "        if len(terminal_steps.reward) > 0:\n",
    "            reward += terminal_steps.reward\n",
    "        done = len(decision_steps) == 0\n",
    "        terminated = len(terminal_steps) > 0\n",
    "        # print(observation, reward, done, terminated, action)\n",
    "        assert len(reward) == state.shape[0] == action.shape[0]\n",
    "\n",
    "        # if t % 50 == 0:\n",
    "        #     print(f\"step: {t}, reward: {reward}, state: {state}, action: {action}\")\n",
    "        reward = torch.tensor(reward, device=device)\n",
    "        step_rewards.append(reward.item())\n",
    "\n",
    "\n",
    "        if done or terminated:\n",
    "            next_state = None\n",
    "        else:\n",
    "            next_state = torch.tensor(observation, dtype=torch.float32, device=device)\n",
    "\n",
    "        # Store the transition in memory\n",
    "        memory.push(state, action, next_state, reward)\n",
    "\n",
    "        # Move to the next state\n",
    "        state = next_state\n",
    "\n",
    "        # Perform one step of the optimization (on the policy network)\n",
    "        loss = optimize_model(memory, policy_net, target_net, optimizer, device, double=DOUBLE, BATCH_SIZE=BATCH_SIZE, GAMMA=GAMMA)\n",
    "        if loss is not None:\n",
    "            step_losses.append(loss)\n",
    "\n",
    "        # Soft update of the target network's weights\n",
    "        # θ′ ← τ θ + (1 −τ )θ′\n",
    "        target_net_state_dict = target_net.state_dict()\n",
    "        policy_net_state_dict = policy_net.state_dict()\n",
    "        for key in policy_net_state_dict:\n",
    "            target_net_state_dict[key] = policy_net_state_dict[key] * TAU + target_net_state_dict[key] * (1 - TAU)\n",
    "        target_net.load_state_dict(target_net_state_dict)\n",
    "\n",
    "        if terminated or done:\n",
    "            episode_length.append(t)\n",
    "            break\n",
    "    \n",
    "    if len(step_losses) == 0:\n",
    "        step_losses.append(0)\n",
    "    losses.append(np.mean(step_losses))\n",
    "    lengths.append(np.mean(episode_length))\n",
    "    ep_rewards = sum(step_rewards)\n",
    "    pbar.set_description(f\"E {i_episode} done after {t + 1} t, with r: {ep_rewards:.2f} and l: {np.mean(step_losses):.2f}\")\n",
    "    rewards.append(ep_rewards)\n",
    "\n",
    "env.close()\n",
    "print(f\"Finished training in {(time.perf_counter() - timer_start)/60 :.3} minutes\")\n"
   ]
  },
  {
   "cell_type": "code",
   "execution_count": 9,
   "metadata": {},
   "outputs": [],
   "source": [
    "\n",
    "if SAVE_WEIGHTS:\n",
    "    torch.save(policy_net.state_dict(), 'weights/policy_net.pth')\n",
    "    rewards_df = pd.DataFrame(rewards, columns=['reward'])\n",
    "    rewards_df.to_csv('rewards.csv', index=False)\n",
    "    losses_df = pd.DataFrame(losses, columns=['loss'])\n",
    "    losses_df.to_csv('losses.csv', index=False)\n",
    "    lengths_df = pd.DataFrame(lengths, columns=['length'])\n",
    "    lengths_df.to_csv('lengths.csv', index=False)\n",
    "    print(\"Saved weights and data to file\")"
   ]
  },
  {
   "cell_type": "code",
   "execution_count": 5,
   "metadata": {},
   "outputs": [
    {
     "data": {
      "image/png": "[encoded data removed]",
      "text/plain": [
       "<Figure size 1600x500 with 1 Axes>"
      ]
     },
     "metadata": {},
     "output_type": "display_data"
    },
    {
     "data": {
      "image/png": "[encoded data removed]",
      "text/plain": [
       "<Figure size 1600x500 with 1 Axes>"
      ]
     },
     "metadata": {},
     "output_type": "display_data"
    }
   ],
   "source": [
    "\n",
    "plt.figure(figsize=(16, 5))\n",
    "plt.plot(rewards)\n",
    "plt.xlabel('Episode')\n",
    "plt.ylabel('Total Reward')\n",
    "plt.title('Rewards over Episodes')\n",
    "plt.show()\n",
    "\n",
    "plt.figure(figsize=(16, 5))\n",
    "plt.plot(losses)\n",
    "plt.xlabel('Episode')\n",
    "plt.ylabel('Loss')\n",
    "plt.title('Loss over Episodes')\n",
    "plt.show()\n",
    "\n",
    "plt.figure(figsize=(16, 5))\n",
    "plt.plot(lengths)\n",
    "plt.xlabel('Episode')\n",
    "plt.ylabel('Episode Length')\n",
    "plt.title('Episode Length over Episodes')\n",
    "plt.show()\n"
   ]
  },
  {
   "cell_type": "markdown",
   "metadata": {},
   "source": [
    "Inference"
   ]
  },
  {
   "cell_type": "code",
   "execution_count": 8,
   "metadata": {},
   "outputs": [],
   "source": [
    "env = UnityEnvironment(file_name=\"unity_builds/snake\", seed=3, side_channels=[], no_graphics=False)\n",
    "env.reset()\n",
    "\n",
    "behaviour_name = list(env.behavior_specs)[0]\n",
    "spec = env.behavior_specs[behaviour_name]\n",
    "\n",
    "n_actions = spec.action_spec.discrete_branches[0]\n",
    "state, _ = env.get_steps(behaviour_name)\n",
    "state = state.obs[0]\n",
    "# n_observations = len(state)\n",
    "n_observations = spec.observation_specs[0].shape[0]\n",
    "\n",
    "# policy_net = DQN(n_observations, n_actions).to(device)\n",
    "# policy_net = DuelingDQN(n_observations, n_actions).to(device)\n",
    "# policy_net.load_state_dict(torch.load('weights/large_observations/4k/policy_net.pth'))\n",
    "# policy_net.load_state_dict(torch.load('weights/policy_net.pth'))\n",
    "for t in range(5):\n",
    "    env.reset()\n",
    "    decision_steps, terminal_steps = env.get_steps(behaviour_name)\n",
    "    state = decision_steps.obs[0]\n",
    "    state = torch.tensor(state, dtype=torch.float32, device=device)\n",
    "    for i in range(100):\n",
    "        with torch.no_grad():\n",
    "            action = policy_net(state).max(1).indices.view(1, 1)\n",
    "    \n",
    "        action_tuple = ActionTuple()\n",
    "        action_tuple.add_discrete(action.cpu().numpy())\n",
    "        env.set_actions(behaviour_name, action_tuple)\n",
    "        env.step()\n",
    "\n",
    "        decision_steps, terminal_steps = env.get_steps(behaviour_name)\n",
    "        observation = decision_steps.obs[0]\n",
    "        done = len(decision_steps) == 0\n",
    "        terminated = len(terminal_steps) > 0\n",
    "\n",
    "        if done or terminated:\n",
    "            break\n",
    "        state = torch.tensor(observation, dtype=torch.float32, device=device)\n",
    "env.close()"
   ]
  }
 ],
 "metadata": {
  "kernelspec": {
   "display_name": "venv",
   "language": "python",
   "name": "python3"
  },
  "language_info": {
   "codemirror_mode": {
    "name": "ipython",
    "version": 3
   },
   "file_extension": ".py",
   "mimetype": "text/x-python",
   "name": "python",
   "nbconvert_exporter": "python",
   "pygments_lexer": "ipython3",
   "version": "3.10.11"
  }
 },
 "nbformat": 4,
 "nbformat_minor": 2
}
