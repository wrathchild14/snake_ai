{
 "cells": [
  {
   "cell_type": "code",
   "execution_count": 1,
   "metadata": {
    "ExecuteTime": {
     "end_time": "2024-05-25T22:31:53.814093Z",
     "start_time": "2024-05-25T22:31:52.498946Z"
    }
   },
   "outputs": [],
   "source": [
    "import math\n",
    "import random\n",
    "import time\n",
    "import torch\n",
    "import torch.optim as optim\n",
    "\n",
    "from mlagents_envs.environment import UnityEnvironment\n",
    "from mlagents_envs.base_env import ActionTuple\n",
    "\n",
    "import numpy as np\n",
    "import pandas as pd\n",
    "from tqdm import tqdm\n",
    "import matplotlib.pyplot as plt\n",
    "from models import DQN, DuelingDQN, ReplayMemory, optimize_model\n",
    "\n",
    "def select_action(state_in):\n",
    "    global steps_done\n",
    "    sample = random.random()\n",
    "    eps_threshold = EPS_END + (EPS_START - EPS_END) * math.exp(-1. * steps_done / EPS_DECAY)\n",
    "    steps_done += 1\n",
    "    if sample > eps_threshold:\n",
    "        with torch.no_grad():\n",
    "            # t.max(1) will return the largest column value of each row.\n",
    "            # second column on max result is index of where max element was\n",
    "            # found, so we pick action with the larger expected reward.\n",
    "            action_out = policy_net(state_in).max(1).indices.view(1, 1)\n",
    "            return action_out\n",
    "    else:\n",
    "        return torch.tensor(spec.action_spec.random_action(1).discrete, device=device, dtype=torch.long)\n"
   ]
  },
  {
   "cell_type": "code",
   "execution_count": 2,
   "metadata": {
    "ExecuteTime": {
     "end_time": "2024-05-25T22:31:53.830005Z",
     "start_time": "2024-05-25T22:31:53.815092Z"
    }
   },
   "outputs": [
    {
     "name": "stdout",
     "output_type": "stream",
     "text": [
      "Number of episodes:  10000\n",
      "Double: True, Dueling: True\n"
     ]
    }
   ],
   "source": [
    "\n",
    "device = torch.device(\"cuda\" if torch.cuda.is_available() else \"cpu\")\n",
    "\n",
    "timer_start = time.perf_counter()\n",
    "# BATCH_SIZE is the number of transitions sampled from the replay buffer\n",
    "# GAMMA is the discount factor as mentioned in the previous section\n",
    "# EPS_START is the starting value of epsilon\n",
    "# EPS_END is the final value of epsilon\n",
    "# EPS_DECAY controls the rate of exponential decay of epsilon, higher means a slower decay\n",
    "# TAU is the update rate of the target network\n",
    "# LR is the learning rate of the ``AdamW`` optimizer\n",
    "BATCH_SIZE = 128\n",
    "GAMMA = 0.99\n",
    "EPS_START = 0.9\n",
    "EPS_END = 0.1\n",
    "EPS_DECAY = 100_000\n",
    "TAU = 0.005\n",
    "LR = 1e-4\n",
    "\n",
    "SAVE_WEIGHTS = True\n",
    "LOAD_WEIGHTS = False\n",
    "steps_done = 0\n",
    "STEPS = 500\n",
    "DOUBLE = True\n",
    "DUELING = True\n",
    "GRAPHICS = False\n",
    "\n",
    "if torch.cuda.is_available():\n",
    "    num_episodes = 10_000\n",
    "else:\n",
    "    num_episodes = 50\n",
    "\n",
    "print(\"Number of episodes: \", num_episodes)\n",
    "print(f\"Double: {DOUBLE}, Dueling: {DUELING}\")"
   ]
  },
  {
   "cell_type": "code",
   "execution_count": 3,
   "metadata": {
    "ExecuteTime": {
     "end_time": "2024-05-25T22:31:54.695514Z",
     "start_time": "2024-05-25T22:31:53.830005Z"
    }
   },
   "outputs": [
    {
     "name": "stdout",
     "output_type": "stream",
     "text": [
      "Initalized DQN with 8 observations and 4 actions\n"
     ]
    }
   ],
   "source": [
    "\n",
    "env = UnityEnvironment(file_name=\"unity_builds/snake\", seed=13, side_channels=[], no_graphics=not GRAPHICS)\n",
    "env.reset()\n",
    "\n",
    "behaviour_name = list(env.behavior_specs)[0]\n",
    "spec = env.behavior_specs[behaviour_name]\n",
    "\n",
    "n_actions = spec.action_spec.discrete_branches[0]\n",
    "state, _ = env.get_steps(behaviour_name)\n",
    "state = state.obs[0]\n",
    "# n_observations = len(state)\n",
    "n_observations = spec.observation_specs[0].shape[0]\n",
    "\n",
    "if DUELING:\n",
    "    policy_net = DuelingDQN(n_observations, n_actions).to(device)\n",
    "    target_net = DuelingDQN(n_observations, n_actions).to(device)\n",
    "else:\n",
    "    policy_net = DQN(n_observations, n_actions).to(device)\n",
    "    target_net = DQN(n_observations, n_actions).to(device)\n",
    "\n",
    "if LOAD_WEIGHTS:\n",
    "    policy_net.load_state_dict(torch.load('weights/policy_net.pth'))\n",
    "    print(\"Loaded weights from file\")\n",
    "\n",
    "target_net.load_state_dict(policy_net.state_dict())\n",
    "\n",
    "optimizer = optim.AdamW(policy_net.parameters(), lr=LR, amsgrad=True)\n",
    "memory = ReplayMemory(1000)\n",
    "print(f\"Initialized DQN with {n_observations} observations and {n_actions} actions\")\n",
    "rewards = []\n",
    "losses = []"
   ]
  },
  {
   "cell_type": "code",
   "execution_count": 4,
   "metadata": {
    "ExecuteTime": {
     "end_time": "2024-05-26T02:21:35.254992Z",
     "start_time": "2024-05-25T22:32:01.650848Z"
    }
   },
   "outputs": [
    {
     "name": "stderr",
     "output_type": "stream",
     "text": [
      "E 99 done after 4 t, with r: -1.00 and l: 0.00:   1%|          | 99/10000 [01:58<7:07:31,  2.59s/it]  "
     ]
    },
    {
     "name": "stdout",
     "output_type": "stream",
     "text": [
      "Episode 100, avg reward: -1.16, epsilon: 0.83\n",
      "Checkpoint: Saved weights to file\n"
     ]
    },
    {
     "name": "stderr",
     "output_type": "stream",
     "text": [
      "E 199 done after 39 t, with r: -0.12 and l: 0.00:   2%|▏         | 200/10000 [03:57<3:52:40,  1.42s/it] "
     ]
    },
    {
     "name": "stdout",
     "output_type": "stream",
     "text": [
      "Episode 200, avg reward: -1.12, epsilon: 0.77\n",
      "Checkpoint: Saved weights to file\n"
     ]
    },
    {
     "name": "stderr",
     "output_type": "stream",
     "text": [
      "E 299 done after 159 t, with r: -1.62 and l: 0.01:   3%|▎         | 300/10000 [06:02<6:02:59,  2.25s/it]"
     ]
    },
    {
     "name": "stdout",
     "output_type": "stream",
     "text": [
      "Episode 300, avg reward: -1.04, epsilon: 0.71\n",
      "Checkpoint: Saved weights to file\n"
     ]
    },
    {
     "name": "stderr",
     "output_type": "stream",
     "text": [
      "E 399 done after 329 t, with r: -1.28 and l: 0.01:   4%|▍         | 400/10000 [07:56<4:53:34,  1.83s/it]"
     ]
    },
    {
     "name": "stdout",
     "output_type": "stream",
     "text": [
      "Episode 400, avg reward: -1.06, epsilon: 0.66\n",
      "Checkpoint: Saved weights to file\n"
     ]
    },
    {
     "name": "stderr",
     "output_type": "stream",
     "text": [
      "E 499 done after 137 t, with r: -0.51 and l: 0.01:   5%|▌         | 500/10000 [09:58<3:03:59,  1.16s/it]"
     ]
    },
    {
     "name": "stdout",
     "output_type": "stream",
     "text": [
      "Episode 500, avg reward: -1.01, epsilon: 0.61\n",
      "Checkpoint: Saved weights to file\n"
     ]
    },
    {
     "name": "stderr",
     "output_type": "stream",
     "text": [
      "E 599 done after 111 t, with r: -0.41 and l: 0.01:   6%|▌         | 600/10000 [11:57<2:43:57,  1.05s/it]"
     ]
    },
    {
     "name": "stdout",
     "output_type": "stream",
     "text": [
      "Episode 600, avg reward: -0.98, epsilon: 0.57\n",
      "Checkpoint: Saved weights to file\n"
     ]
    },
    {
     "name": "stderr",
     "output_type": "stream",
     "text": [
      "E 699 done after 12 t, with r: -1.03 and l: 0.01:   7%|▋         | 700/10000 [14:27<3:24:54,  1.32s/it] "
     ]
    },
    {
     "name": "stdout",
     "output_type": "stream",
     "text": [
      "Episode 700, avg reward: -1.00, epsilon: 0.52\n",
      "Checkpoint: Saved weights to file\n"
     ]
    },
    {
     "name": "stderr",
     "output_type": "stream",
     "text": [
      "E 799 done after 64 t, with r: -0.22 and l: 0.01:   8%|▊         | 800/10000 [16:31<3:39:16,  1.43s/it] "
     ]
    },
    {
     "name": "stdout",
     "output_type": "stream",
     "text": [
      "Episode 800, avg reward: -0.89, epsilon: 0.48\n",
      "Checkpoint: Saved weights to file\n"
     ]
    },
    {
     "name": "stderr",
     "output_type": "stream",
     "text": [
      "E 899 done after 76 t, with r: -1.29 and l: 0.02:   9%|▉         | 900/10000 [18:48<2:18:36,  1.09it/s] "
     ]
    },
    {
     "name": "stdout",
     "output_type": "stream",
     "text": [
      "Episode 900, avg reward: -0.97, epsilon: 0.44\n",
      "Checkpoint: Saved weights to file\n"
     ]
    },
    {
     "name": "stderr",
     "output_type": "stream",
     "text": [
      "E 999 done after 262 t, with r: -2.03 and l: 0.02:  10%|█         | 1000/10000 [21:05<5:51:42,  2.34s/it]"
     ]
    },
    {
     "name": "stdout",
     "output_type": "stream",
     "text": [
      "Episode 1000, avg reward: -0.90, epsilon: 0.41\n",
      "Checkpoint: Saved weights to file\n"
     ]
    },
    {
     "name": "stderr",
     "output_type": "stream",
     "text": [
      "E 1099 done after 14 t, with r: -1.04 and l: 0.02:  11%|█         | 1100/10000 [23:14<1:22:19,  1.80it/s] "
     ]
    },
    {
     "name": "stdout",
     "output_type": "stream",
     "text": [
      "Episode 1100, avg reward: -0.86, epsilon: 0.38\n",
      "Checkpoint: Saved weights to file\n"
     ]
    },
    {
     "name": "stderr",
     "output_type": "stream",
     "text": [
      "E 1199 done after 244 t, with r: -0.94 and l: 0.02:  12%|█▏        | 1200/10000 [25:20<3:43:10,  1.52s/it]"
     ]
    },
    {
     "name": "stdout",
     "output_type": "stream",
     "text": [
      "Episode 1200, avg reward: -0.86, epsilon: 0.36\n",
      "Checkpoint: Saved weights to file\n"
     ]
    },
    {
     "name": "stderr",
     "output_type": "stream",
     "text": [
      "E 1299 done after 354 t, with r: -0.36 and l: 0.01:  13%|█▎        | 1300/10000 [27:41<5:47:00,  2.39s/it]"
     ]
    },
    {
     "name": "stdout",
     "output_type": "stream",
     "text": [
      "Episode 1300, avg reward: -0.84, epsilon: 0.33\n",
      "Checkpoint: Saved weights to file\n"
     ]
    },
    {
     "name": "stderr",
     "output_type": "stream",
     "text": [
      "E 1399 done after 171 t, with r: -0.65 and l: 0.01:  14%|█▍        | 1400/10000 [30:09<5:54:23,  2.47s/it]"
     ]
    },
    {
     "name": "stdout",
     "output_type": "stream",
     "text": [
      "Episode 1400, avg reward: -0.83, epsilon: 0.30\n",
      "Checkpoint: Saved weights to file\n"
     ]
    },
    {
     "name": "stderr",
     "output_type": "stream",
     "text": [
      "E 1499 done after 139 t, with r: -1.54 and l: 0.02:  15%|█▌        | 1500/10000 [32:13<4:13:28,  1.79s/it]"
     ]
    },
    {
     "name": "stdout",
     "output_type": "stream",
     "text": [
      "Episode 1500, avg reward: -0.85, epsilon: 0.29\n",
      "Checkpoint: Saved weights to file\n"
     ]
    },
    {
     "name": "stderr",
     "output_type": "stream",
     "text": [
      "E 1599 done after 136 t, with r: -0.51 and l: 0.02:  16%|█▌        | 1600/10000 [34:07<2:39:28,  1.14s/it]"
     ]
    },
    {
     "name": "stdout",
     "output_type": "stream",
     "text": [
      "Episode 1600, avg reward: -0.77, epsilon: 0.27\n",
      "Checkpoint: Saved weights to file\n"
     ]
    },
    {
     "name": "stderr",
     "output_type": "stream",
     "text": [
      "E 1699 done after 6 t, with r: -1.01 and l: 0.03:  17%|█▋        | 1699/10000 [36:06<1:35:08,  1.45it/s]  "
     ]
    },
    {
     "name": "stdout",
     "output_type": "stream",
     "text": [
      "Episode 1700, avg reward: -0.79, epsilon: 0.26\n",
      "Checkpoint: Saved weights to file\n"
     ]
    },
    {
     "name": "stderr",
     "output_type": "stream",
     "text": [
      "E 1799 done after 334 t, with r: -2.32 and l: 0.02:  18%|█▊        | 1800/10000 [38:22<4:15:10,  1.87s/it]"
     ]
    },
    {
     "name": "stdout",
     "output_type": "stream",
     "text": [
      "Episode 1800, avg reward: -0.72, epsilon: 0.24\n",
      "Checkpoint: Saved weights to file\n"
     ]
    },
    {
     "name": "stderr",
     "output_type": "stream",
     "text": [
      "E 1899 done after 204 t, with r: -1.80 and l: 0.02:  19%|█▉        | 1900/10000 [41:06<4:06:27,  1.83s/it]"
     ]
    },
    {
     "name": "stdout",
     "output_type": "stream",
     "text": [
      "Episode 1900, avg reward: -0.94, epsilon: 0.22\n",
      "Checkpoint: Saved weights to file\n"
     ]
    },
    {
     "name": "stderr",
     "output_type": "stream",
     "text": [
      "E 1999 done after 19 t, with r: -1.06 and l: 0.02:  20%|██        | 2000/10000 [43:12<1:33:28,  1.43it/s] "
     ]
    },
    {
     "name": "stdout",
     "output_type": "stream",
     "text": [
      "Episode 2000, avg reward: -1.07, epsilon: 0.21\n",
      "Checkpoint: Saved weights to file\n"
     ]
    },
    {
     "name": "stderr",
     "output_type": "stream",
     "text": [
      "E 2099 done after 244 t, with r: -0.94 and l: 0.01:  21%|██        | 2100/10000 [46:08<4:48:11,  2.19s/it]"
     ]
    },
    {
     "name": "stdout",
     "output_type": "stream",
     "text": [
      "Episode 2100, avg reward: -0.99, epsilon: 0.20\n",
      "Checkpoint: Saved weights to file\n"
     ]
    },
    {
     "name": "stderr",
     "output_type": "stream",
     "text": [
      "E 2199 done after 47 t, with r: -1.17 and l: 0.02:  22%|██▏       | 2200/10000 [47:44<2:26:45,  1.13s/it] "
     ]
    },
    {
     "name": "stdout",
     "output_type": "stream",
     "text": [
      "Episode 2200, avg reward: -0.58, epsilon: 0.19\n",
      "Checkpoint: Saved weights to file\n"
     ]
    },
    {
     "name": "stderr",
     "output_type": "stream",
     "text": [
      "E 2299 done after 111 t, with r: -1.43 and l: 0.02:  23%|██▎       | 2300/10000 [50:10<2:32:40,  1.19s/it]"
     ]
    },
    {
     "name": "stdout",
     "output_type": "stream",
     "text": [
      "Episode 2300, avg reward: -0.60, epsilon: 0.18\n",
      "Checkpoint: Saved weights to file\n"
     ]
    },
    {
     "name": "stderr",
     "output_type": "stream",
     "text": [
      "E 2399 done after 139 t, with r: -0.52 and l: 0.02:  24%|██▍       | 2400/10000 [52:29<3:01:38,  1.43s/it]"
     ]
    },
    {
     "name": "stdout",
     "output_type": "stream",
     "text": [
      "Episode 2400, avg reward: -0.67, epsilon: 0.17\n",
      "Checkpoint: Saved weights to file\n"
     ]
    },
    {
     "name": "stderr",
     "output_type": "stream",
     "text": [
      "E 2499 done after 12 t, with r: -1.03 and l: 0.02:  25%|██▌       | 2500/10000 [54:39<2:42:30,  1.30s/it] "
     ]
    },
    {
     "name": "stdout",
     "output_type": "stream",
     "text": [
      "Episode 2500, avg reward: -0.95, epsilon: 0.17\n",
      "Checkpoint: Saved weights to file\n"
     ]
    },
    {
     "name": "stderr",
     "output_type": "stream",
     "text": [
      "E 2599 done after 246 t, with r: 1.09 and l: 0.02:  26%|██▌       | 2600/10000 [56:54<4:27:45,  2.17s/it] "
     ]
    },
    {
     "name": "stdout",
     "output_type": "stream",
     "text": [
      "Episode 2600, avg reward: -0.64, epsilon: 0.16\n",
      "Checkpoint: Saved weights to file\n"
     ]
    },
    {
     "name": "stderr",
     "output_type": "stream",
     "text": [
      "E 2699 done after 102 t, with r: -1.39 and l: 0.02:  27%|██▋       | 2700/10000 [59:13<1:50:13,  1.10it/s]"
     ]
    },
    {
     "name": "stdout",
     "output_type": "stream",
     "text": [
      "Episode 2700, avg reward: -0.89, epsilon: 0.15\n",
      "Checkpoint: Saved weights to file\n"
     ]
    },
    {
     "name": "stderr",
     "output_type": "stream",
     "text": [
      "E 2799 done after 77 t, with r: -1.29 and l: 0.02:  28%|██▊       | 2800/10000 [1:01:36<3:48:35,  1.90s/it] "
     ]
    },
    {
     "name": "stdout",
     "output_type": "stream",
     "text": [
      "Episode 2800, avg reward: -0.94, epsilon: 0.15\n",
      "Checkpoint: Saved weights to file\n"
     ]
    },
    {
     "name": "stderr",
     "output_type": "stream",
     "text": [
      "E 2899 done after 24 t, with r: -1.08 and l: 0.02:  29%|██▉       | 2900/10000 [1:03:47<2:29:56,  1.27s/it] "
     ]
    },
    {
     "name": "stdout",
     "output_type": "stream",
     "text": [
      "Episode 2900, avg reward: -0.86, epsilon: 0.14\n",
      "Checkpoint: Saved weights to file\n"
     ]
    },
    {
     "name": "stderr",
     "output_type": "stream",
     "text": [
      "E 2999 done after 11 t, with r: -1.03 and l: 0.02:  30%|███       | 3000/10000 [1:06:16<1:48:45,  1.07it/s] "
     ]
    },
    {
     "name": "stdout",
     "output_type": "stream",
     "text": [
      "Episode 3000, avg reward: -0.92, epsilon: 0.14\n",
      "Checkpoint: Saved weights to file\n"
     ]
    },
    {
     "name": "stderr",
     "output_type": "stream",
     "text": [
      "E 3099 done after 31 t, with r: -1.11 and l: 0.02:  31%|███       | 3100/10000 [1:08:27<2:36:02,  1.36s/it] "
     ]
    },
    {
     "name": "stdout",
     "output_type": "stream",
     "text": [
      "Episode 3100, avg reward: -0.96, epsilon: 0.13\n",
      "Checkpoint: Saved weights to file\n"
     ]
    },
    {
     "name": "stderr",
     "output_type": "stream",
     "text": [
      "E 3199 done after 259 t, with r: 0.02 and l: 0.01:  32%|███▏      | 3200/10000 [1:10:46<2:39:16,  1.41s/it] "
     ]
    },
    {
     "name": "stdout",
     "output_type": "stream",
     "text": [
      "Episode 3200, avg reward: -0.95, epsilon: 0.13\n",
      "Checkpoint: Saved weights to file\n"
     ]
    },
    {
     "name": "stderr",
     "output_type": "stream",
     "text": [
      "E 3299 done after 176 t, with r: -1.69 and l: 0.02:  33%|███▎      | 3300/10000 [1:13:00<2:06:43,  1.13s/it]"
     ]
    },
    {
     "name": "stdout",
     "output_type": "stream",
     "text": [
      "Episode 3300, avg reward: -0.65, epsilon: 0.13\n",
      "Checkpoint: Saved weights to file\n"
     ]
    },
    {
     "name": "stderr",
     "output_type": "stream",
     "text": [
      "E 3399 done after 2 t, with r: -0.99 and l: 0.01:  34%|███▍      | 3399/10000 [1:15:00<1:31:32,  1.20it/s]  "
     ]
    },
    {
     "name": "stdout",
     "output_type": "stream",
     "text": [
      "Episode 3400, avg reward: -0.92, epsilon: 0.13\n",
      "Checkpoint: Saved weights to file\n"
     ]
    },
    {
     "name": "stderr",
     "output_type": "stream",
     "text": [
      "E 3499 done after 26 t, with r: -1.09 and l: 0.02:  35%|███▌      | 3500/10000 [1:16:58<57:30,  1.88it/s]   "
     ]
    },
    {
     "name": "stdout",
     "output_type": "stream",
     "text": [
      "Episode 3500, avg reward: -0.83, epsilon: 0.12\n",
      "Checkpoint: Saved weights to file\n"
     ]
    },
    {
     "name": "stderr",
     "output_type": "stream",
     "text": [
      "E 3599 done after 299 t, with r: -1.16 and l: 0.01:  36%|███▌      | 3600/10000 [1:19:23<4:43:36,  2.66s/it]"
     ]
    },
    {
     "name": "stdout",
     "output_type": "stream",
     "text": [
      "Episode 3600, avg reward: -0.88, epsilon: 0.12\n",
      "Checkpoint: Saved weights to file\n"
     ]
    },
    {
     "name": "stderr",
     "output_type": "stream",
     "text": [
      "E 3699 done after 26 t, with r: -1.09 and l: 0.01:  37%|███▋      | 3700/10000 [1:21:52<2:21:44,  1.35s/it] "
     ]
    },
    {
     "name": "stdout",
     "output_type": "stream",
     "text": [
      "Episode 3700, avg reward: -0.82, epsilon: 0.12\n",
      "Checkpoint: Saved weights to file\n"
     ]
    },
    {
     "name": "stderr",
     "output_type": "stream",
     "text": [
      "E 3799 done after 284 t, with r: -2.12 and l: 0.01:  38%|███▊      | 3800/10000 [1:24:40<4:39:02,  2.70s/it]"
     ]
    },
    {
     "name": "stdout",
     "output_type": "stream",
     "text": [
      "Episode 3800, avg reward: -1.00, epsilon: 0.12\n",
      "Checkpoint: Saved weights to file\n"
     ]
    },
    {
     "name": "stderr",
     "output_type": "stream",
     "text": [
      "E 3900 done after 9 t, with r: -1.02 and l: 0.03:  39%|███▉      | 3901/10000 [1:27:03<1:10:32,  1.44it/s]  "
     ]
    },
    {
     "name": "stdout",
     "output_type": "stream",
     "text": [
      "Episode 3900, avg reward: -0.48, epsilon: 0.11\n",
      "Checkpoint: Saved weights to file\n"
     ]
    },
    {
     "name": "stderr",
     "output_type": "stream",
     "text": [
      "E 3999 done after 71 t, with r: -1.27 and l: 0.01:  40%|████      | 4000/10000 [1:29:16<1:56:11,  1.16s/it] "
     ]
    },
    {
     "name": "stdout",
     "output_type": "stream",
     "text": [
      "Episode 4000, avg reward: -0.67, epsilon: 0.11\n",
      "Checkpoint: Saved weights to file\n"
     ]
    },
    {
     "name": "stderr",
     "output_type": "stream",
     "text": [
      "E 4099 done after 29 t, with r: -1.10 and l: 0.01:  41%|████      | 4100/10000 [1:31:34<3:24:36,  2.08s/it] "
     ]
    },
    {
     "name": "stdout",
     "output_type": "stream",
     "text": [
      "Episode 4100, avg reward: -0.86, epsilon: 0.11\n",
      "Checkpoint: Saved weights to file\n"
     ]
    },
    {
     "name": "stderr",
     "output_type": "stream",
     "text": [
      "E 4199 done after 111 t, with r: -0.41 and l: 0.01:  42%|████▏     | 4200/10000 [1:33:44<2:35:00,  1.60s/it]"
     ]
    },
    {
     "name": "stdout",
     "output_type": "stream",
     "text": [
      "Episode 4200, avg reward: -0.99, epsilon: 0.11\n",
      "Checkpoint: Saved weights to file\n"
     ]
    },
    {
     "name": "stderr",
     "output_type": "stream",
     "text": [
      "E 4299 done after 24 t, with r: -1.08 and l: 0.01:  43%|████▎     | 4300/10000 [1:35:39<1:47:23,  1.13s/it] "
     ]
    },
    {
     "name": "stdout",
     "output_type": "stream",
     "text": [
      "Episode 4300, avg reward: -0.92, epsilon: 0.11\n",
      "Checkpoint: Saved weights to file\n"
     ]
    },
    {
     "name": "stderr",
     "output_type": "stream",
     "text": [
      "E 4399 done after 87 t, with r: -1.33 and l: 0.01:  44%|████▍     | 4400/10000 [1:38:37<2:39:57,  1.71s/it] "
     ]
    },
    {
     "name": "stdout",
     "output_type": "stream",
     "text": [
      "Episode 4400, avg reward: -0.79, epsilon: 0.11\n",
      "Checkpoint: Saved weights to file\n"
     ]
    },
    {
     "name": "stderr",
     "output_type": "stream",
     "text": [
      "E 4499 done after 104 t, with r: -1.40 and l: 0.02:  45%|████▌     | 4500/10000 [1:40:53<2:44:00,  1.79s/it]"
     ]
    },
    {
     "name": "stdout",
     "output_type": "stream",
     "text": [
      "Episode 4500, avg reward: -0.56, epsilon: 0.11\n",
      "Checkpoint: Saved weights to file\n"
     ]
    },
    {
     "name": "stderr",
     "output_type": "stream",
     "text": [
      "E 4599 done after 179 t, with r: -0.68 and l: 0.01:  46%|████▌     | 4600/10000 [1:43:00<3:23:06,  2.26s/it]"
     ]
    },
    {
     "name": "stdout",
     "output_type": "stream",
     "text": [
      "Episode 4600, avg reward: -0.69, epsilon: 0.11\n",
      "Checkpoint: Saved weights to file\n"
     ]
    },
    {
     "name": "stderr",
     "output_type": "stream",
     "text": [
      "E 4700 done after 6 t, with r: -1.01 and l: 0.03:  47%|████▋     | 4700/10000 [1:45:10<1:29:24,  1.01s/it]  "
     ]
    },
    {
     "name": "stdout",
     "output_type": "stream",
     "text": [
      "Episode 4700, avg reward: -0.52, epsilon: 0.11\n",
      "Checkpoint: Saved weights to file\n"
     ]
    },
    {
     "name": "stderr",
     "output_type": "stream",
     "text": [
      "E 4799 done after 139 t, with r: -1.54 and l: 0.02:  48%|████▊     | 4800/10000 [1:47:16<1:42:43,  1.19s/it]"
     ]
    },
    {
     "name": "stdout",
     "output_type": "stream",
     "text": [
      "Episode 4800, avg reward: -0.23, epsilon: 0.11\n",
      "Checkpoint: Saved weights to file\n"
     ]
    },
    {
     "name": "stderr",
     "output_type": "stream",
     "text": [
      "E 4899 done after 42 t, with r: -0.13 and l: 0.02:  49%|████▉     | 4900/10000 [1:49:26<1:42:43,  1.21s/it] "
     ]
    },
    {
     "name": "stdout",
     "output_type": "stream",
     "text": [
      "Episode 4900, avg reward: -0.71, epsilon: 0.11\n",
      "Checkpoint: Saved weights to file\n"
     ]
    },
    {
     "name": "stderr",
     "output_type": "stream",
     "text": [
      "E 4999 done after 24 t, with r: -1.08 and l: 0.01:  50%|█████     | 5000/10000 [1:51:56<2:07:57,  1.54s/it] "
     ]
    },
    {
     "name": "stdout",
     "output_type": "stream",
     "text": [
      "Episode 5000, avg reward: -0.78, epsilon: 0.10\n",
      "Checkpoint: Saved weights to file\n"
     ]
    },
    {
     "name": "stderr",
     "output_type": "stream",
     "text": [
      "E 5099 done after 34 t, with r: -1.12 and l: 0.02:  51%|█████     | 5100/10000 [1:54:25<52:35,  1.55it/s]   "
     ]
    },
    {
     "name": "stdout",
     "output_type": "stream",
     "text": [
      "Episode 5100, avg reward: -0.94, epsilon: 0.10\n",
      "Checkpoint: Saved weights to file\n"
     ]
    },
    {
     "name": "stderr",
     "output_type": "stream",
     "text": [
      "E 5199 done after 41 t, with r: -1.15 and l: 0.03:  52%|█████▏    | 5200/10000 [1:56:34<2:06:57,  1.59s/it] "
     ]
    },
    {
     "name": "stdout",
     "output_type": "stream",
     "text": [
      "Episode 5200, avg reward: -0.44, epsilon: 0.10\n",
      "Checkpoint: Saved weights to file\n"
     ]
    },
    {
     "name": "stderr",
     "output_type": "stream",
     "text": [
      "E 5299 done after 77 t, with r: -1.29 and l: 0.03:  53%|█████▎    | 5300/10000 [1:58:24<1:18:06,  1.00it/s] "
     ]
    },
    {
     "name": "stdout",
     "output_type": "stream",
     "text": [
      "Episode 5300, avg reward: -0.25, epsilon: 0.10\n",
      "Checkpoint: Saved weights to file\n"
     ]
    },
    {
     "name": "stderr",
     "output_type": "stream",
     "text": [
      "E 5399 done after 162 t, with r: 0.41 and l: 0.02:  54%|█████▍    | 5400/10000 [2:00:40<1:52:59,  1.47s/it] "
     ]
    },
    {
     "name": "stdout",
     "output_type": "stream",
     "text": [
      "Episode 5400, avg reward: -0.56, epsilon: 0.10\n",
      "Checkpoint: Saved weights to file\n"
     ]
    },
    {
     "name": "stderr",
     "output_type": "stream",
     "text": [
      "E 5499 done after 4 t, with r: -1.00 and l: 0.02:  55%|█████▌    | 5500/10000 [2:03:13<28:30,  2.63it/s]    "
     ]
    },
    {
     "name": "stdout",
     "output_type": "stream",
     "text": [
      "Episode 5500, avg reward: -0.90, epsilon: 0.10\n",
      "Checkpoint: Saved weights to file\n"
     ]
    },
    {
     "name": "stderr",
     "output_type": "stream",
     "text": [
      "E 5599 done after 7 t, with r: -1.01 and l: 0.01:  56%|█████▌    | 5600/10000 [2:05:12<59:36,  1.23it/s]    "
     ]
    },
    {
     "name": "stdout",
     "output_type": "stream",
     "text": [
      "Episode 5600, avg reward: -1.01, epsilon: 0.10\n",
      "Checkpoint: Saved weights to file\n"
     ]
    },
    {
     "name": "stderr",
     "output_type": "stream",
     "text": [
      "E 5699 done after 94 t, with r: -1.36 and l: 0.02:  57%|█████▋    | 5700/10000 [2:07:26<47:05,  1.52it/s]   "
     ]
    },
    {
     "name": "stdout",
     "output_type": "stream",
     "text": [
      "Episode 5700, avg reward: -0.79, epsilon: 0.10\n",
      "Checkpoint: Saved weights to file\n"
     ]
    },
    {
     "name": "stderr",
     "output_type": "stream",
     "text": [
      "E 5799 done after 214 t, with r: -1.84 and l: 0.02:  58%|█████▊    | 5800/10000 [2:10:03<1:41:45,  1.45s/it]"
     ]
    },
    {
     "name": "stdout",
     "output_type": "stream",
     "text": [
      "Episode 5800, avg reward: -0.77, epsilon: 0.10\n",
      "Checkpoint: Saved weights to file\n"
     ]
    },
    {
     "name": "stderr",
     "output_type": "stream",
     "text": [
      "E 5899 done after 206 t, with r: 0.23 and l: 0.02:  59%|█████▉    | 5900/10000 [2:12:45<1:38:44,  1.44s/it] "
     ]
    },
    {
     "name": "stdout",
     "output_type": "stream",
     "text": [
      "Episode 5900, avg reward: -0.17, epsilon: 0.10\n",
      "Checkpoint: Saved weights to file\n"
     ]
    },
    {
     "name": "stderr",
     "output_type": "stream",
     "text": [
      "E 5999 done after 214 t, with r: 2.24 and l: 0.01:  60%|██████    | 6000/10000 [2:15:35<2:55:05,  2.63s/it] "
     ]
    },
    {
     "name": "stdout",
     "output_type": "stream",
     "text": [
      "Episode 6000, avg reward: -0.36, epsilon: 0.10\n",
      "Checkpoint: Saved weights to file\n"
     ]
    },
    {
     "name": "stderr",
     "output_type": "stream",
     "text": [
      "E 6099 done after 14 t, with r: -1.04 and l: 0.01:  61%|██████    | 6100/10000 [2:17:51<1:26:41,  1.33s/it] "
     ]
    },
    {
     "name": "stdout",
     "output_type": "stream",
     "text": [
      "Episode 6100, avg reward: -0.79, epsilon: 0.10\n",
      "Checkpoint: Saved weights to file\n"
     ]
    },
    {
     "name": "stderr",
     "output_type": "stream",
     "text": [
      "E 6199 done after 114 t, with r: -1.44 and l: 0.01:  62%|██████▏   | 6200/10000 [2:20:22<2:05:40,  1.98s/it]"
     ]
    },
    {
     "name": "stdout",
     "output_type": "stream",
     "text": [
      "Episode 6200, avg reward: -0.92, epsilon: 0.10\n",
      "Checkpoint: Saved weights to file\n"
     ]
    },
    {
     "name": "stderr",
     "output_type": "stream",
     "text": [
      "E 6299 done after 82 t, with r: 0.73 and l: 0.02:  63%|██████▎   | 6300/10000 [2:22:34<1:05:03,  1.06s/it]  "
     ]
    },
    {
     "name": "stdout",
     "output_type": "stream",
     "text": [
      "Episode 6300, avg reward: -0.85, epsilon: 0.10\n",
      "Checkpoint: Saved weights to file\n"
     ]
    },
    {
     "name": "stderr",
     "output_type": "stream",
     "text": [
      "E 6399 done after 131 t, with r: 0.53 and l: 0.02:  64%|██████▍   | 6400/10000 [2:24:42<1:16:30,  1.28s/it] "
     ]
    },
    {
     "name": "stdout",
     "output_type": "stream",
     "text": [
      "Episode 6400, avg reward: -0.86, epsilon: 0.10\n",
      "Checkpoint: Saved weights to file\n"
     ]
    },
    {
     "name": "stderr",
     "output_type": "stream",
     "text": [
      "E 6499 done after 69 t, with r: -1.26 and l: 0.02:  65%|██████▌   | 6500/10000 [2:27:02<35:52,  1.63it/s]   "
     ]
    },
    {
     "name": "stdout",
     "output_type": "stream",
     "text": [
      "Episode 6500, avg reward: -0.71, epsilon: 0.10\n",
      "Checkpoint: Saved weights to file\n"
     ]
    },
    {
     "name": "stderr",
     "output_type": "stream",
     "text": [
      "E 6599 done after 206 t, with r: -1.81 and l: 0.02:  66%|██████▌   | 6600/10000 [2:29:08<1:13:16,  1.29s/it]"
     ]
    },
    {
     "name": "stdout",
     "output_type": "stream",
     "text": [
      "Episode 6600, avg reward: -0.68, epsilon: 0.10\n",
      "Checkpoint: Saved weights to file\n"
     ]
    },
    {
     "name": "stderr",
     "output_type": "stream",
     "text": [
      "E 6701 done after 4 t, with r: -1.00 and l: 0.01:  67%|██████▋   | 6701/10000 [2:31:37<1:17:32,  1.41s/it]  "
     ]
    },
    {
     "name": "stdout",
     "output_type": "stream",
     "text": [
      "Episode 6700, avg reward: -0.95, epsilon: 0.10\n",
      "Checkpoint: Saved weights to file\n"
     ]
    },
    {
     "name": "stderr",
     "output_type": "stream",
     "text": [
      "E 6799 done after 137 t, with r: -1.53 and l: 0.01:  68%|██████▊   | 6800/10000 [2:34:00<1:12:51,  1.37s/it]"
     ]
    },
    {
     "name": "stdout",
     "output_type": "stream",
     "text": [
      "Episode 6800, avg reward: -1.11, epsilon: 0.10\n",
      "Checkpoint: Saved weights to file\n"
     ]
    },
    {
     "name": "stderr",
     "output_type": "stream",
     "text": [
      "E 6899 done after 104 t, with r: -1.40 and l: 0.01:  69%|██████▉   | 6900/10000 [2:36:11<48:03,  1.08it/s]  "
     ]
    },
    {
     "name": "stdout",
     "output_type": "stream",
     "text": [
      "Episode 6900, avg reward: -0.99, epsilon: 0.10\n",
      "Checkpoint: Saved weights to file\n"
     ]
    },
    {
     "name": "stderr",
     "output_type": "stream",
     "text": [
      "E 6999 done after 82 t, with r: -1.31 and l: 0.01:  70%|███████   | 7000/10000 [2:39:21<1:54:49,  2.30s/it] "
     ]
    },
    {
     "name": "stdout",
     "output_type": "stream",
     "text": [
      "Episode 7000, avg reward: -0.64, epsilon: 0.10\n",
      "Checkpoint: Saved weights to file\n"
     ]
    },
    {
     "name": "stderr",
     "output_type": "stream",
     "text": [
      "E 7099 done after 39 t, with r: -1.14 and l: 0.01:  71%|███████   | 7100/10000 [2:41:45<48:43,  1.01s/it]   "
     ]
    },
    {
     "name": "stdout",
     "output_type": "stream",
     "text": [
      "Episode 7100, avg reward: -0.97, epsilon: 0.10\n",
      "Checkpoint: Saved weights to file\n"
     ]
    },
    {
     "name": "stderr",
     "output_type": "stream",
     "text": [
      "E 7199 done after 24 t, with r: -0.06 and l: 0.01:  72%|███████▏  | 7200/10000 [2:43:51<46:33,  1.00it/s]   "
     ]
    },
    {
     "name": "stdout",
     "output_type": "stream",
     "text": [
      "Episode 7200, avg reward: -0.73, epsilon: 0.10\n",
      "Checkpoint: Saved weights to file\n"
     ]
    },
    {
     "name": "stderr",
     "output_type": "stream",
     "text": [
      "E 7299 done after 47 t, with r: -1.17 and l: 0.01:  73%|███████▎  | 7300/10000 [2:46:19<1:23:44,  1.86s/it] "
     ]
    },
    {
     "name": "stdout",
     "output_type": "stream",
     "text": [
      "Episode 7300, avg reward: -0.54, epsilon: 0.10\n",
      "Checkpoint: Saved weights to file\n"
     ]
    },
    {
     "name": "stderr",
     "output_type": "stream",
     "text": [
      "E 7399 done after 12 t, with r: -1.03 and l: 0.01:  74%|███████▍  | 7400/10000 [2:48:32<33:52,  1.28it/s]   "
     ]
    },
    {
     "name": "stdout",
     "output_type": "stream",
     "text": [
      "Episode 7400, avg reward: -0.76, epsilon: 0.10\n",
      "Checkpoint: Saved weights to file\n"
     ]
    },
    {
     "name": "stderr",
     "output_type": "stream",
     "text": [
      "E 7499 done after 90 t, with r: -1.34 and l: 0.01:  75%|███████▌  | 7500/10000 [2:51:19<1:32:21,  2.22s/it] "
     ]
    },
    {
     "name": "stdout",
     "output_type": "stream",
     "text": [
      "Episode 7500, avg reward: -0.68, epsilon: 0.10\n",
      "Checkpoint: Saved weights to file\n"
     ]
    },
    {
     "name": "stderr",
     "output_type": "stream",
     "text": [
      "E 7599 done after 226 t, with r: -0.87 and l: 0.02:  76%|███████▌  | 7600/10000 [2:53:13<50:12,  1.26s/it]  "
     ]
    },
    {
     "name": "stdout",
     "output_type": "stream",
     "text": [
      "Episode 7600, avg reward: -0.86, epsilon: 0.10\n",
      "Checkpoint: Saved weights to file\n"
     ]
    },
    {
     "name": "stderr",
     "output_type": "stream",
     "text": [
      "E 7699 done after 49 t, with r: 0.86 and l: 0.02:  77%|███████▋  | 7700/10000 [2:55:33<1:01:55,  1.62s/it]  "
     ]
    },
    {
     "name": "stdout",
     "output_type": "stream",
     "text": [
      "Episode 7700, avg reward: -0.38, epsilon: 0.10\n",
      "Checkpoint: Saved weights to file\n"
     ]
    },
    {
     "name": "stderr",
     "output_type": "stream",
     "text": [
      "E 7799 done after 269 t, with r: 2.02 and l: 0.02:  78%|███████▊  | 7800/10000 [2:58:11<1:20:24,  2.19s/it] "
     ]
    },
    {
     "name": "stdout",
     "output_type": "stream",
     "text": [
      "Episode 7800, avg reward: -0.36, epsilon: 0.10\n",
      "Checkpoint: Saved weights to file\n"
     ]
    },
    {
     "name": "stderr",
     "output_type": "stream",
     "text": [
      "E 7900 done after 14 t, with r: -1.04 and l: 0.02:  79%|███████▉  | 7900/10000 [3:00:32<41:55,  1.20s/it]   "
     ]
    },
    {
     "name": "stdout",
     "output_type": "stream",
     "text": [
      "Episode 7900, avg reward: -0.73, epsilon: 0.10\n",
      "Checkpoint: Saved weights to file\n"
     ]
    },
    {
     "name": "stderr",
     "output_type": "stream",
     "text": [
      "E 7999 done after 61 t, with r: -1.23 and l: 0.01:  80%|████████  | 8000/10000 [3:02:46<39:13,  1.18s/it]   "
     ]
    },
    {
     "name": "stdout",
     "output_type": "stream",
     "text": [
      "Episode 8000, avg reward: -1.06, epsilon: 0.10\n",
      "Checkpoint: Saved weights to file\n"
     ]
    },
    {
     "name": "stderr",
     "output_type": "stream",
     "text": [
      "E 8099 done after 171 t, with r: -1.67 and l: 0.02:  81%|████████  | 8100/10000 [3:05:33<1:05:07,  2.06s/it]"
     ]
    },
    {
     "name": "stdout",
     "output_type": "stream",
     "text": [
      "Episode 8100, avg reward: -0.80, epsilon: 0.10\n",
      "Checkpoint: Saved weights to file\n"
     ]
    },
    {
     "name": "stderr",
     "output_type": "stream",
     "text": [
      "E 8199 done after 34 t, with r: -1.12 and l: 0.02:  82%|████████▏ | 8200/10000 [3:08:17<45:24,  1.51s/it]   "
     ]
    },
    {
     "name": "stdout",
     "output_type": "stream",
     "text": [
      "Episode 8200, avg reward: -0.87, epsilon: 0.10\n",
      "Checkpoint: Saved weights to file\n"
     ]
    },
    {
     "name": "stderr",
     "output_type": "stream",
     "text": [
      "E 8299 done after 147 t, with r: -1.57 and l: 0.01:  83%|████████▎ | 8300/10000 [3:10:22<38:49,  1.37s/it]  "
     ]
    },
    {
     "name": "stdout",
     "output_type": "stream",
     "text": [
      "Episode 8300, avg reward: -0.76, epsilon: 0.10\n",
      "Checkpoint: Saved weights to file\n"
     ]
    },
    {
     "name": "stderr",
     "output_type": "stream",
     "text": [
      "E 8399 done after 151 t, with r: -1.59 and l: 0.01:  84%|████████▍ | 8400/10000 [3:12:55<45:58,  1.72s/it]  "
     ]
    },
    {
     "name": "stdout",
     "output_type": "stream",
     "text": [
      "Episode 8400, avg reward: -0.83, epsilon: 0.10\n",
      "Checkpoint: Saved weights to file\n"
     ]
    },
    {
     "name": "stderr",
     "output_type": "stream",
     "text": [
      "E 8499 done after 27 t, with r: -1.09 and l: 0.01:  85%|████████▌ | 8500/10000 [3:15:25<23:59,  1.04it/s]   "
     ]
    },
    {
     "name": "stdout",
     "output_type": "stream",
     "text": [
      "Episode 8500, avg reward: -0.70, epsilon: 0.10\n",
      "Checkpoint: Saved weights to file\n"
     ]
    },
    {
     "name": "stderr",
     "output_type": "stream",
     "text": [
      "E 8599 done after 104 t, with r: -1.40 and l: 0.02:  86%|████████▌ | 8600/10000 [3:17:53<32:35,  1.40s/it]  "
     ]
    },
    {
     "name": "stdout",
     "output_type": "stream",
     "text": [
      "Episode 8600, avg reward: -0.65, epsilon: 0.10\n",
      "Checkpoint: Saved weights to file\n"
     ]
    },
    {
     "name": "stderr",
     "output_type": "stream",
     "text": [
      "E 8699 done after 36 t, with r: -1.13 and l: 0.01:  87%|████████▋ | 8700/10000 [3:20:11<15:14,  1.42it/s]   "
     ]
    },
    {
     "name": "stdout",
     "output_type": "stream",
     "text": [
      "Episode 8700, avg reward: -0.75, epsilon: 0.10\n",
      "Checkpoint: Saved weights to file\n"
     ]
    },
    {
     "name": "stderr",
     "output_type": "stream",
     "text": [
      "E 8799 done after 29 t, with r: -1.10 and l: 0.01:  88%|████████▊ | 8800/10000 [3:22:10<10:36,  1.88it/s] "
     ]
    },
    {
     "name": "stdout",
     "output_type": "stream",
     "text": [
      "Episode 8800, avg reward: -0.85, epsilon: 0.10\n",
      "Checkpoint: Saved weights to file\n"
     ]
    },
    {
     "name": "stderr",
     "output_type": "stream",
     "text": [
      "E 8899 done after 27 t, with r: -0.07 and l: 0.02:  89%|████████▉ | 8900/10000 [3:24:21<13:25,  1.37it/s] "
     ]
    },
    {
     "name": "stdout",
     "output_type": "stream",
     "text": [
      "Episode 8900, avg reward: -0.30, epsilon: 0.10\n",
      "Checkpoint: Saved weights to file\n"
     ]
    },
    {
     "name": "stderr",
     "output_type": "stream",
     "text": [
      "E 9000 done after 9 t, with r: -1.02 and l: 0.02:  90%|█████████ | 9001/10000 [3:26:41<26:27,  1.59s/it]  "
     ]
    },
    {
     "name": "stdout",
     "output_type": "stream",
     "text": [
      "Episode 9000, avg reward: -0.53, epsilon: 0.10\n",
      "Checkpoint: Saved weights to file\n"
     ]
    },
    {
     "name": "stderr",
     "output_type": "stream",
     "text": [
      "E 9099 done after 19 t, with r: -1.06 and l: 0.01:  91%|█████████ | 9100/10000 [3:29:11<20:51,  1.39s/it] "
     ]
    },
    {
     "name": "stdout",
     "output_type": "stream",
     "text": [
      "Episode 9100, avg reward: -0.56, epsilon: 0.10\n",
      "Checkpoint: Saved weights to file\n"
     ]
    },
    {
     "name": "stderr",
     "output_type": "stream",
     "text": [
      "E 9199 done after 184 t, with r: 1.34 and l: 0.02:  92%|█████████▏| 9200/10000 [3:31:18<17:24,  1.31s/it] "
     ]
    },
    {
     "name": "stdout",
     "output_type": "stream",
     "text": [
      "Episode 9200, avg reward: -0.96, epsilon: 0.10\n",
      "Checkpoint: Saved weights to file\n"
     ]
    },
    {
     "name": "stderr",
     "output_type": "stream",
     "text": [
      "E 9299 done after 354 t, with r: -2.40 and l: 0.01:  93%|█████████▎| 9300/10000 [3:33:21<28:33,  2.45s/it]"
     ]
    },
    {
     "name": "stdout",
     "output_type": "stream",
     "text": [
      "Episode 9300, avg reward: -0.94, epsilon: 0.10\n",
      "Checkpoint: Saved weights to file\n"
     ]
    },
    {
     "name": "stderr",
     "output_type": "stream",
     "text": [
      "E 9400 done after 1 t, with r: -0.99 and l: 0.02:  94%|█████████▍| 9400/10000 [3:35:52<09:49,  1.02it/s]  "
     ]
    },
    {
     "name": "stdout",
     "output_type": "stream",
     "text": [
      "Episode 9400, avg reward: -0.87, epsilon: 0.10\n",
      "Checkpoint: Saved weights to file\n"
     ]
    },
    {
     "name": "stderr",
     "output_type": "stream",
     "text": [
      "E 9499 done after 77 t, with r: -1.29 and l: 0.01:  95%|█████████▌| 9500/10000 [3:37:59<13:51,  1.66s/it] "
     ]
    },
    {
     "name": "stdout",
     "output_type": "stream",
     "text": [
      "Episode 9500, avg reward: -0.64, epsilon: 0.10\n",
      "Checkpoint: Saved weights to file\n"
     ]
    },
    {
     "name": "stderr",
     "output_type": "stream",
     "text": [
      "E 9599 done after 51 t, with r: -1.19 and l: 0.02:  96%|█████████▌| 9600/10000 [3:40:15<05:02,  1.32it/s] "
     ]
    },
    {
     "name": "stdout",
     "output_type": "stream",
     "text": [
      "Episode 9600, avg reward: -0.62, epsilon: 0.10\n",
      "Checkpoint: Saved weights to file\n"
     ]
    },
    {
     "name": "stderr",
     "output_type": "stream",
     "text": [
      "E 9699 done after 77 t, with r: -1.29 and l: 0.02:  97%|█████████▋| 9700/10000 [3:42:56<05:33,  1.11s/it] "
     ]
    },
    {
     "name": "stdout",
     "output_type": "stream",
     "text": [
      "Episode 9700, avg reward: -0.36, epsilon: 0.10\n",
      "Checkpoint: Saved weights to file\n"
     ]
    },
    {
     "name": "stderr",
     "output_type": "stream",
     "text": [
      "E 9799 done after 14 t, with r: -1.04 and l: 0.01:  98%|█████████▊| 9800/10000 [3:45:35<04:53,  1.47s/it] "
     ]
    },
    {
     "name": "stdout",
     "output_type": "stream",
     "text": [
      "Episode 9800, avg reward: -0.49, epsilon: 0.10\n",
      "Checkpoint: Saved weights to file\n"
     ]
    },
    {
     "name": "stderr",
     "output_type": "stream",
     "text": [
      "E 9899 done after 79 t, with r: -0.28 and l: 0.02:  99%|█████████▉| 9900/10000 [3:47:24<01:53,  1.14s/it] "
     ]
    },
    {
     "name": "stdout",
     "output_type": "stream",
     "text": [
      "Episode 9900, avg reward: -0.67, epsilon: 0.10\n",
      "Checkpoint: Saved weights to file\n"
     ]
    },
    {
     "name": "stderr",
     "output_type": "stream",
     "text": [
      "E 9999 done after 172 t, with r: 0.37 and l: 0.01: 100%|██████████| 10000/10000 [3:49:33<00:00,  1.38s/it]"
     ]
    },
    {
     "name": "stdout",
     "output_type": "stream",
     "text": [
      "Finished training in 2.3e+02 minutes\n"
     ]
    },
    {
     "name": "stderr",
     "output_type": "stream",
     "text": [
      "\n"
     ]
    }
   ],
   "source": [
    "pbar = tqdm(range(num_episodes))\n",
    "t = 0  # t init\n",
    "for i_episode in pbar:\n",
    "    if i_episode % 100 == 0 and i_episode != 0:\n",
    "        print(\n",
    "            f\"Episode {i_episode}, avg reward: {np.mean(rewards[-100:]):.2f}, \"\n",
    "            f\"epsilon: {EPS_END + (EPS_START - EPS_END) * math.exp(-1. * steps_done / EPS_DECAY):.2f}\")\n",
    "        torch.save(policy_net.state_dict(), 'weights/policy_net.pth')\n",
    "        print(\"Checkpoint: Saved weights to file\")\n",
    "    step_rewards = []\n",
    "    step_losses = []\n",
    "    # Initialize the environment and get its state\n",
    "    env.reset()\n",
    "    decision_steps, terminal_steps = env.get_steps(behaviour_name)\n",
    "    state = decision_steps.obs[0]\n",
    "    state = torch.tensor(state, dtype=torch.float32, device=device)\n",
    "    for t in range(STEPS):\n",
    "        # time.sleep(1)\n",
    "        action = select_action(state)\n",
    "        action_tuple = ActionTuple()\n",
    "        action_tuple.add_discrete(action.cpu().numpy())\n",
    "        env.set_actions(behaviour_name, action_tuple)\n",
    "        env.step()\n",
    "\n",
    "        assert action.shape[0] == state.shape[0]\n",
    "\n",
    "        decision_steps, terminal_steps = env.get_steps(behaviour_name)\n",
    "        observation = decision_steps.obs[0]\n",
    "        reward = np.zeros(state.shape[0])\n",
    "        if len(decision_steps.reward) > 0:\n",
    "            reward += decision_steps.reward\n",
    "        if len(terminal_steps.reward) > 0:\n",
    "            reward += terminal_steps.reward\n",
    "        done = len(decision_steps) == 0\n",
    "        terminated = len(terminal_steps) > 0\n",
    "        # print(observation, reward, done, terminated, action)\n",
    "        assert len(reward) == state.shape[0] == action.shape[0]\n",
    "\n",
    "        # if t % 50 == 0:\n",
    "        #     print(f\"step: {t}, reward: {reward}, state: {state}, action: {action}\")\n",
    "        reward = torch.tensor(reward, device=device)\n",
    "        step_rewards.append(reward.item())\n",
    "\n",
    "\n",
    "        if done or terminated:\n",
    "            next_state = None\n",
    "        else:\n",
    "            next_state = torch.tensor(observation, dtype=torch.float32, device=device)\n",
    "\n",
    "        # Store the transition in memory\n",
    "        memory.push(state, action, next_state, reward)\n",
    "\n",
    "        # Move to the next state\n",
    "        state = next_state\n",
    "\n",
    "        # Perform one step of the optimization (on the policy network)\n",
    "        loss = optimize_model(memory, policy_net, target_net, optimizer, device, double=DOUBLE, BATCH_SIZE=BATCH_SIZE, GAMMA=GAMMA)\n",
    "        if loss is not None:\n",
    "            step_losses.append(loss)\n",
    "\n",
    "        # Soft update of the target network's weights\n",
    "        # θ′ ← τ θ + (1 −τ )θ′\n",
    "        target_net_state_dict = target_net.state_dict()\n",
    "        policy_net_state_dict = policy_net.state_dict()\n",
    "        for key in policy_net_state_dict:\n",
    "            target_net_state_dict[key] = policy_net_state_dict[key] * TAU + target_net_state_dict[key] * (1 - TAU)\n",
    "        target_net.load_state_dict(target_net_state_dict)\n",
    "\n",
    "        if terminated or done:\n",
    "            break\n",
    "    \n",
    "    if len(step_losses) == 0:\n",
    "        step_losses.append(0)\n",
    "    losses.append(np.mean(step_losses))\n",
    "    ep_rewards = sum(step_rewards)\n",
    "    pbar.set_description(f\"E {i_episode} done after {t + 1} t, with r: {ep_rewards:.2f} and l: {np.mean(step_losses):.2f}\")\n",
    "    rewards.append(ep_rewards)\n",
    "\n",
    "env.close()\n",
    "print(f\"Finished training in {(time.perf_counter() - timer_start)/3600} hours\")\n"
   ]
  },
  {
   "cell_type": "code",
   "execution_count": 7,
   "metadata": {
    "ExecuteTime": {
     "end_time": "2024-05-26T08:13:16.861658Z",
     "start_time": "2024-05-26T08:13:16.827152Z"
    }
   },
   "outputs": [],
   "source": [
    "\n",
    "if SAVE_WEIGHTS:\n",
    "    torch.save(policy_net.state_dict(), 'weights/policy_net.pth')\n",
    "    rewards_df = pd.DataFrame(rewards, columns=['reward'])\n",
    "    rewards_df.to_csv('rewards.csv', index=False)\n",
    "    losses_df = pd.DataFrame(losses, columns=['loss'])\n",
    "    losses_df.to_csv('losses.csv', index=False)\n",
    "\n"
   ]
  },
  {
   "cell_type": "code",
   "execution_count": 8,
   "metadata": {
    "ExecuteTime": {
     "end_time": "2024-05-26T08:13:21.887710Z",
     "start_time": "2024-05-26T08:13:21.713572Z"
    }
   },
   "outputs": [
    {
     "data": {
      "text/plain": "<Figure size 1600x500 with 1 Axes>",
      "image/png": "[encoded data removed]"
     },
     "metadata": {},
     "output_type": "display_data"
    },
    {
     "data": {
      "text/plain": "<Figure size 1600x500 with 1 Axes>",
      "image/png": "[encoded data removed]"
     },
     "metadata": {},
     "output_type": "display_data"
    }
   ],
   "source": [
    "\n",
    "plt.figure(figsize=(16, 5))\n",
    "plt.plot(rewards)\n",
    "plt.xlabel('Episode')\n",
    "plt.ylabel('Total Reward')\n",
    "plt.title('Rewards over Episodes')\n",
    "plt.show()\n",
    "\n",
    "plt.figure(figsize=(16, 5))\n",
    "plt.plot(losses)\n",
    "plt.xlabel('Episode')\n",
    "plt.ylabel('Loss')\n",
    "plt.title('Loss over Episodes')\n",
    "plt.show()\n"
   ]
  },
  {
   "cell_type": "markdown",
   "metadata": {},
   "source": [
    "Inference"
   ]
  },
  {
   "cell_type": "code",
   "execution_count": 11,
   "metadata": {
    "ExecuteTime": {
     "end_time": "2024-05-26T08:20:25.805152Z",
     "start_time": "2024-05-26T08:20:16.211342Z"
    }
   },
   "outputs": [],
   "source": [
    "# Use neural net to watch the snake play\n",
    "\n",
    "env = UnityEnvironment(file_name=\"unity_builds/snake\", seed=1, side_channels=[], no_graphics=False)\n",
    "env.reset()\n",
    "\n",
    "behaviour_name = list(env.behavior_specs)[0]\n",
    "spec = env.behavior_specs[behaviour_name]\n",
    "\n",
    "n_actions = spec.action_spec.discrete_branches[0]\n",
    "state, _ = env.get_steps(behaviour_name)\n",
    "state = state.obs[0]\n",
    "# n_observations = len(state)\n",
    "n_observations = spec.observation_specs[0].shape[0]\n",
    "\n",
    "# policy_net = DQN(n_observations, n_actions).to(device)\n",
    "# policy_net = DuelingDQN(n_observations, n_actions).to(device)\n",
    "# policy_net.load_state_dict(torch.load('weights/large_observations/4k/policy_net.pth'))\n",
    "policy_net.load_state_dict(torch.load('weights/policy_net.pth'))\n",
    "for t in range(5):\n",
    "    env.reset()\n",
    "    decision_steps, terminal_steps = env.get_steps(behaviour_name)\n",
    "    state = decision_steps.obs[0]\n",
    "    state = torch.tensor(state, dtype=torch.float32, device=device)\n",
    "    for i in range(100):\n",
    "        with torch.no_grad():\n",
    "            action = policy_net(state).max(1).indices.view(1, 1)\n",
    "    \n",
    "        action_tuple = ActionTuple()\n",
    "        action_tuple.add_discrete(action.cpu().numpy())\n",
    "        env.set_actions(behaviour_name, action_tuple)\n",
    "        env.step()\n",
    "\n",
    "        decision_steps, terminal_steps = env.get_steps(behaviour_name)\n",
    "        observation = decision_steps.obs[0]\n",
    "        done = len(decision_steps) == 0\n",
    "        terminated = len(terminal_steps) > 0\n",
    "\n",
    "        if done or terminated:\n",
    "            break\n",
    "        state = torch.tensor(observation, dtype=torch.float32, device=device)\n",
    "env.close()"
   ]
  }
 ],
 "metadata": {
  "kernelspec": {
   "display_name": "venv",
   "language": "python",
   "name": "python3"
  },
  "language_info": {
   "codemirror_mode": {
    "name": "ipython",
    "version": 3
   },
   "file_extension": ".py",
   "mimetype": "text/x-python",
   "name": "python",
   "nbconvert_exporter": "python",
   "pygments_lexer": "ipython3",
   "version": "3.10.11"
  }
 },
 "nbformat": 4,
 "nbformat_minor": 2
}
